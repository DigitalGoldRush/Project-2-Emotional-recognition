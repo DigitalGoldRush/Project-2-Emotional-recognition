{
  "nbformat": 4,
  "nbformat_minor": 0,
  "metadata": {
    "colab": {
      "provenance": [],
      "authorship_tag": "ABX9TyMYeEkQ4ZFWsT0h3hlezM/Z",
      "include_colab_link": true
    },
    "kernelspec": {
      "name": "python3",
      "display_name": "Python 3"
    },
    "language_info": {
      "name": "python"
    }
  },
  "cells": [
    {
      "cell_type": "markdown",
      "metadata": {
        "id": "view-in-github",
        "colab_type": "text"
      },
      "source": [
        "<a href=\"https://colab.research.google.com/github/DigitalGoldRush/Project-2-Emotional-recognition/blob/main/model_weights_class_indicies.ipynb\" target=\"_parent\"><img src=\"https://colab.research.google.com/assets/colab-badge.svg\" alt=\"Open In Colab\"/></a>"
      ]
    },
    {
      "cell_type": "markdown",
      "source": [
        "## Save model weights"
      ],
      "metadata": {
        "id": "oS5QpZyaooHm"
      }
    },
    {
      "cell_type": "code",
      "source": [
        "# model.save_weights('model_weights.h5')\n"
      ],
      "metadata": {
        "id": "60zTf666F9o4"
      },
      "execution_count": null,
      "outputs": []
    },
    {
      "cell_type": "code",
      "source": [
        "model_json=model.to_json()\n",
        "with open('model_json.json', 'w') as f: \n",
        "  f.write(model_json)"
      ],
      "metadata": {
        "id": "zgkY-LHeG0Q-"
      },
      "execution_count": null,
      "outputs": []
    },
    {
      "cell_type": "markdown",
      "source": [
        "## Generator class indicies"
      ],
      "metadata": {
        "id": "d429Yfq5ozZc"
      }
    },
    {
      "cell_type": "code",
      "source": [
        "# generator class indicies\n",
        "train_generator.class_indices"
      ],
      "metadata": {
        "colab": {
          "base_uri": "https://localhost:8080/"
        },
        "id": "7mI_3OMrHAOk",
        "outputId": "0dc7b12a-02ed-47dd-e546-19d95fa2ffb0"
      },
      "execution_count": null,
      "outputs": [
        {
          "output_type": "execute_result",
          "data": {
            "text/plain": [
              "{'Angry': 0, 'Fear': 1, 'Happy': 2, 'Neutral': 3, 'Sad': 4, 'Suprise': 5}"
            ]
          },
          "metadata": {},
          "execution_count": 51
        }
      ]
    }
  ]
}