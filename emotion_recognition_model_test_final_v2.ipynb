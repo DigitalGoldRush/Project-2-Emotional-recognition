{
  "nbformat": 4,
  "nbformat_minor": 0,
  "metadata": {
    "colab": {
      "provenance": [],
      "collapsed_sections": [],
      "mount_file_id": "https://github.com/DigitalGoldRush/Project-2-Emotional-recognition/blob/main/emotion_recognition_v2.ipynb",
      "authorship_tag": "ABX9TyOfjhVqUXmYcOB+wyOssCeX",
      "include_colab_link": true
    },
    "kernelspec": {
      "name": "python3",
      "display_name": "Python 3"
    },
    "language_info": {
      "name": "python"
    },
    "accelerator": "GPU",
    "gpuClass": "premium"
  },
  "cells": [
    {
      "cell_type": "markdown",
      "metadata": {
        "id": "view-in-github",
        "colab_type": "text"
      },
      "source": [
        "<a href=\"https://colab.research.google.com/github/DigitalGoldRush/Project-2-Emotional-recognition/blob/main/emotion_recognition_model_test_final_v2.ipynb\" target=\"_parent\"><img src=\"https://colab.research.google.com/assets/colab-badge.svg\" alt=\"Open In Colab\"/></a>"
      ]
    },
    {
      "cell_type": "code",
      "source": [
        "import tensorflow as tf\n",
        "import numpy as np\n",
        "import pandas as pd\n",
        "import random\n",
        "from tensorflow import keras\n",
        "from keras import layers\n",
        "from keras import Model\n",
        "from keras.preprocessing.image import ImageDataGenerator\n",
        "from keras.applications.inception_v3 import InceptionV3\n",
        "RANDOM_SEED = 123\n"
      ],
      "metadata": {
        "id": "z0elcJHShGG-"
      },
      "execution_count": 2,
      "outputs": []
    },
    {
      "cell_type": "code",
      "source": [
        "#Faster way to upload zip files from gdrive to colab\n",
        "# ID of Kaggle emotional dataset\n",
        "! gdown --id 1wrwLq6DqNHLDxU18RYUPY0WcV4ZNG70P"
      ],
      "metadata": {
        "colab": {
          "base_uri": "https://localhost:8080/"
        },
        "id": "Wn0TtaIEEFCE",
        "outputId": "18ee7699-c819-42e5-d347-20c8613f87e5"
      },
      "execution_count": 3,
      "outputs": [
        {
          "output_type": "stream",
          "name": "stdout",
          "text": [
            "/usr/local/lib/python3.7/dist-packages/gdown/cli.py:131: FutureWarning: Option `--id` was deprecated in version 4.3.1 and will be removed in 5.0. You don't need to pass it anymore to use a file ID.\n",
            "  category=FutureWarning,\n",
            "Downloading...\n",
            "From: https://drive.google.com/uc?id=1wrwLq6DqNHLDxU18RYUPY0WcV4ZNG70P\n",
            "To: /content/emotional dataset.zip\n",
            "100% 62.6M/62.6M [00:01<00:00, 48.3MB/s]\n"
          ]
        }
      ]
    },
    {
      "cell_type": "code",
      "source": [
        "# zip file opener\n",
        "!pip install patool\n",
        "import patoolib"
      ],
      "metadata": {
        "colab": {
          "base_uri": "https://localhost:8080/"
        },
        "id": "ME1TqApuHMIl",
        "outputId": "74a6458d-b64f-4aed-8805-b60728a7f92c"
      },
      "execution_count": 4,
      "outputs": [
        {
          "output_type": "stream",
          "name": "stdout",
          "text": [
            "Looking in indexes: https://pypi.org/simple, https://us-python.pkg.dev/colab-wheels/public/simple/\n",
            "Collecting patool\n",
            "  Downloading patool-1.12-py2.py3-none-any.whl (77 kB)\n",
            "\u001b[K     |████████████████████████████████| 77 kB 3.4 MB/s \n",
            "\u001b[?25hInstalling collected packages: patool\n",
            "Successfully installed patool-1.12\n"
          ]
        }
      ]
    },
    {
      "cell_type": "code",
      "source": [
        "patoolib.extract_archive('/content/emotional dataset.zip')"
      ],
      "metadata": {
        "colab": {
          "base_uri": "https://localhost:8080/",
          "height": 87
        },
        "id": "I8AeYeVIHlB2",
        "outputId": "a69aaa39-d593-4267-c9ed-2580c04d9d67"
      },
      "execution_count": 5,
      "outputs": [
        {
          "output_type": "stream",
          "name": "stdout",
          "text": [
            "patool: Extracting /content/emotional dataset.zip ...\n",
            "patool: running /usr/bin/7z x -o./Unpack_b5bz0iug -- \"/content/emotional dataset.zip\"\n",
            "patool: ... /content/emotional dataset.zip extracted to `emotional dataset' (multiple files in root).\n"
          ]
        },
        {
          "output_type": "execute_result",
          "data": {
            "text/plain": [
              "'emotional dataset'"
            ],
            "application/vnd.google.colaboratory.intrinsic+json": {
              "type": "string"
            }
          },
          "metadata": {},
          "execution_count": 5
        }
      ]
    },
    {
      "cell_type": "code",
      "source": [
        "import os\n",
        "for dirname, _, filenames in os.walk('/kaggle/input'):\n",
        "    for filename in filenames:\n",
        "        os.path.join(dirname, filename)"
      ],
      "metadata": {
        "id": "5MeUdG3u3DEP"
      },
      "execution_count": 6,
      "outputs": []
    },
    {
      "cell_type": "markdown",
      "source": [
        "### Data Preparation"
      ],
      "metadata": {
        "id": "3IhLzShAS2mf"
      }
    },
    {
      "cell_type": "code",
      "source": [
        "# data preparation\n",
        "train_dir = '/content/emotional dataset/Training/Training'\n",
        "test_dir = '/content/emotional dataset/Testing/Testing'\n",
        "\n",
        "train_angry_dir = '/content/emotional dataset/Training/Training/Angry'\n",
        "train_fear_dir = '/content/emotional dataset/Training/Training/Fear'\n",
        "train_happy_dir = '/content/emotional dataset/Training/Training/Happy'\n",
        "train_neutral_dir = '/content/emotional dataset/Training/Training/Neutral'\n",
        "train_sad_dir = '/content/emotional dataset/Training/Training/Sad'\n",
        "train_surprise_dir = '/content/emotional dataset/Training/Training/Suprise'\n",
        "\n",
        "test_angry_dir = '/content/emotional dataset/Testing/Testing/Angry'\n",
        "test_fear_dir = '/content/emotional dataset/Testing/Testing/Fear'\n",
        "test_happy_dir = '/content/emotional dataset/Testing/Testing/Happy'\n",
        "test_neural_dir = '/content/emotional dataset/Testing/Testing/Neutral'\n",
        "test_sad_dir = '/content/emotional dataset/Testing/Testing/Sad'\n",
        "test_surprise_dir = '/content/emotional dataset/Testing/Testing/Suprise'\n",
        "\n",
        "dir_list = [train_angry_dir, train_fear_dir, train_happy_dir,\n",
        "           train_neutral_dir, train_sad_dir, train_surprise_dir,\n",
        "           test_angry_dir, test_fear_dir, test_happy_dir,\n",
        "           test_neural_dir, test_sad_dir, test_surprise_dir]\n",
        "\n",
        "for d in dir_list:\n",
        "    print(d, len(os.listdir(d)))\n"
      ],
      "metadata": {
        "colab": {
          "base_uri": "https://localhost:8080/"
        },
        "id": "Xkt4CtTI-sWD",
        "outputId": "120203d4-137f-4f82-fbb5-35123500d9ee"
      },
      "execution_count": 7,
      "outputs": [
        {
          "output_type": "stream",
          "name": "stdout",
          "text": [
            "/content/emotional dataset/Training/Training/Angry 3995\n",
            "/content/emotional dataset/Training/Training/Fear 4097\n",
            "/content/emotional dataset/Training/Training/Happy 7215\n",
            "/content/emotional dataset/Training/Training/Neutral 4965\n",
            "/content/emotional dataset/Training/Training/Sad 4830\n",
            "/content/emotional dataset/Training/Training/Suprise 3171\n",
            "/content/emotional dataset/Testing/Testing/Angry 958\n",
            "/content/emotional dataset/Testing/Testing/Fear 1024\n",
            "/content/emotional dataset/Testing/Testing/Happy 1774\n",
            "/content/emotional dataset/Testing/Testing/Neutral 1233\n",
            "/content/emotional dataset/Testing/Testing/Sad 1247\n",
            "/content/emotional dataset/Testing/Testing/Suprise 831\n"
          ]
        }
      ]
    },
    {
      "cell_type": "code",
      "source": [
        "# image generator\n",
        "\n",
        "train_datagen = ImageDataGenerator(rescale=1.0/255.0,\n",
        "                                  rotation_range=40,\n",
        "                                  width_shift_range=0.2,\n",
        "                                  height_shift_range=0.2,\n",
        "                                  zoom_range=0.2,\n",
        "                                  horizontal_flip=True,\n",
        "                                  fill_mode='nearest')\n",
        "\n",
        "train_generator = train_datagen.flow_from_directory(train_dir,\n",
        "                                                   target_size=(150,150),\n",
        "                                                   batch_size=64,\n",
        "                                                   class_mode='categorical')\n",
        "\n",
        "validation_datagen = ImageDataGenerator(rescale=1.0/255.0)\n",
        "\n",
        "validation_generator = validation_datagen.flow_from_directory(test_dir,\n",
        "                                                             target_size=(150,150),\n",
        "                                                             batch_size=62,\n",
        "                                                             class_mode='categorical')"
      ],
      "metadata": {
        "colab": {
          "base_uri": "https://localhost:8080/"
        },
        "id": "M2UDHgvbALM0",
        "outputId": "d0ba5499-ef0d-4725-c47c-29b498eca961"
      },
      "execution_count": 8,
      "outputs": [
        {
          "output_type": "stream",
          "name": "stdout",
          "text": [
            "Found 28273 images belonging to 6 classes.\n",
            "Found 7067 images belonging to 6 classes.\n"
          ]
        }
      ]
    },
    {
      "cell_type": "code",
      "source": [
        "# callback function\n",
        "early_stopping_cb = keras.callbacks.EarlyStopping(patience=5,\n",
        "                                                 restore_best_weights=True)"
      ],
      "metadata": {
        "id": "K9SrLVKDm24M"
      },
      "execution_count": 9,
      "outputs": []
    },
    {
      "cell_type": "markdown",
      "source": [
        "### Models"
      ],
      "metadata": {
        "id": "FmvAr1QdTDED"
      }
    },
    {
      "cell_type": "markdown",
      "source": [
        "#### model = RMS optimizer, Relu Activation"
      ],
      "metadata": {
        "id": "wABDSOcPQ5w6"
      }
    },
    {
      "cell_type": "code",
      "source": [
        "# build the model = RMS Optimizer, Relu Activation\n",
        "\n",
        "model = tf.keras.models.Sequential([\n",
        "    # Note the input shape is the desired size of the image 150x150 with 3 bytes color\n",
        "    tf.keras.layers.Conv2D(16, (3,3), activation='relu', input_shape=(150, 150, 3)),\n",
        "    tf.keras.layers.MaxPooling2D(2,2),\n",
        "    tf.keras.layers.Conv2D(32, (3,3), activation='relu'),\n",
        "    tf.keras.layers.MaxPooling2D(2,2), \n",
        "    tf.keras.layers.Conv2D(64, (3,3), activation='relu'), \n",
        "    tf.keras.layers.MaxPooling2D(2,2),\n",
        "    tf.keras.layers.Conv2D(64, (3,3), activation='relu'), \n",
        "    tf.keras.layers.MaxPooling2D(2,2),\n",
        "    # Flatten the results to feed into a DNN\n",
        "    tf.keras.layers.Flatten(), \n",
        "    # 512 neuron hidden layer\n",
        "    tf.keras.layers.Dense(512, activation='relu'), \n",
        "    tf.keras.layers.Dense(6, activation='softmax')  \n",
        "])\n",
        "\n",
        "from tensorflow.keras.optimizers import RMSprop\n",
        "\n",
        "model.compile(optimizer=RMSprop(learning_rate=0.001),\n",
        "              loss='categorical_crossentropy',\n",
        "              metrics = ['accuracy'])\n",
        "model.summary()\n"
      ],
      "metadata": {
        "colab": {
          "base_uri": "https://localhost:8080/"
        },
        "id": "q1XDMWPpAec7",
        "outputId": "d006718b-6074-4d3b-f8cd-c5ad13bc912f"
      },
      "execution_count": 15,
      "outputs": [
        {
          "output_type": "stream",
          "name": "stdout",
          "text": [
            "Model: \"sequential_4\"\n",
            "_________________________________________________________________\n",
            " Layer (type)                Output Shape              Param #   \n",
            "=================================================================\n",
            " conv2d_16 (Conv2D)          (None, 148, 148, 16)      448       \n",
            "                                                                 \n",
            " max_pooling2d_16 (MaxPoolin  (None, 74, 74, 16)       0         \n",
            " g2D)                                                            \n",
            "                                                                 \n",
            " conv2d_17 (Conv2D)          (None, 72, 72, 32)        4640      \n",
            "                                                                 \n",
            " max_pooling2d_17 (MaxPoolin  (None, 36, 36, 32)       0         \n",
            " g2D)                                                            \n",
            "                                                                 \n",
            " conv2d_18 (Conv2D)          (None, 34, 34, 64)        18496     \n",
            "                                                                 \n",
            " max_pooling2d_18 (MaxPoolin  (None, 17, 17, 64)       0         \n",
            " g2D)                                                            \n",
            "                                                                 \n",
            " conv2d_19 (Conv2D)          (None, 15, 15, 64)        36928     \n",
            "                                                                 \n",
            " max_pooling2d_19 (MaxPoolin  (None, 7, 7, 64)         0         \n",
            " g2D)                                                            \n",
            "                                                                 \n",
            " flatten_4 (Flatten)         (None, 3136)              0         \n",
            "                                                                 \n",
            " dense_8 (Dense)             (None, 512)               1606144   \n",
            "                                                                 \n",
            " dense_9 (Dense)             (None, 6)                 3078      \n",
            "                                                                 \n",
            "=================================================================\n",
            "Total params: 1,669,734\n",
            "Trainable params: 1,669,734\n",
            "Non-trainable params: 0\n",
            "_________________________________________________________________\n"
          ]
        }
      ]
    },
    {
      "cell_type": "code",
      "source": [
        "# Fit the model\n",
        "history = model.fit(train_generator,\n",
        "                   epochs=5,\n",
        "                   verbose=1,\n",
        "                   validation_data=validation_generator,\n",
        "                   callbacks=early_stopping_cb)\n"
      ],
      "metadata": {
        "id": "-b0QUqnxnZDC",
        "colab": {
          "base_uri": "https://localhost:8080/"
        },
        "outputId": "15249f16-253d-4f6d-cb84-e3f28d8a2f93"
      },
      "execution_count": 16,
      "outputs": [
        {
          "output_type": "stream",
          "name": "stdout",
          "text": [
            "Epoch 1/5\n",
            "442/442 [==============================] - 171s 354ms/step - loss: 1.7501 - accuracy: 0.2561 - val_loss: 1.6950 - val_accuracy: 0.2783\n",
            "Epoch 2/5\n",
            "442/442 [==============================] - 145s 328ms/step - loss: 1.6975 - accuracy: 0.2828 - val_loss: 1.6010 - val_accuracy: 0.3458\n",
            "Epoch 3/5\n",
            "442/442 [==============================] - 147s 332ms/step - loss: 1.6373 - accuracy: 0.3242 - val_loss: 1.5480 - val_accuracy: 0.3833\n",
            "Epoch 4/5\n",
            "442/442 [==============================] - 146s 330ms/step - loss: 1.5769 - accuracy: 0.3578 - val_loss: 1.4539 - val_accuracy: 0.4190\n",
            "Epoch 5/5\n",
            "442/442 [==============================] - 146s 330ms/step - loss: 1.5255 - accuracy: 0.3817 - val_loss: 1.3761 - val_accuracy: 0.4551\n"
          ]
        }
      ]
    },
    {
      "cell_type": "code",
      "source": [
        "# Evaluate the model loss and accuracy metrics using the evaluate_generator method and the test generator\n",
        "test_loss, test_acc = model.evaluate(validation_generator, verbose=2)\n",
        "\n",
        "# Display the model's loss and accuracy results\n",
        "print(f\"Model Loss: {test_loss}, Model Accuracy: {test_acc}\")\n"
      ],
      "metadata": {
        "colab": {
          "base_uri": "https://localhost:8080/"
        },
        "id": "ibAXWSJqx7SK",
        "outputId": "37c619cf-1644-4900-835c-3f73dcc949f8"
      },
      "execution_count": 17,
      "outputs": [
        {
          "output_type": "stream",
          "name": "stdout",
          "text": [
            "114/114 - 5s - loss: 1.3761 - accuracy: 0.4551 - 5s/epoch - 42ms/step\n",
            "Model Loss: 1.3760792016983032, Model Accuracy: 0.45507287979125977\n"
          ]
        }
      ]
    },
    {
      "cell_type": "markdown",
      "source": [
        "##### Accuracy/Plot Graph"
      ],
      "metadata": {
        "id": "youIMe2hpsWH"
      }
    },
    {
      "cell_type": "code",
      "source": [
        "# Plot the loss function for the model\n",
        "import matplotlib.pyplot as plt\n",
        "\n",
        "plt.plot(history.history['loss'], label='train')\n",
        "plt.plot(history.history['val_loss'], label='test')\n",
        "\n",
        "plt.title('Model loss')\n",
        "plt.ylabel('Loss')\n",
        "plt.xlabel('Epoch')\n",
        "plt.legend(['Train', 'Test'], loc='upper left')\n",
        "plt.show()"
      ],
      "metadata": {
        "id": "qVMUXGqX9pNL",
        "colab": {
          "base_uri": "https://localhost:8080/",
          "height": 295
        },
        "outputId": "ad006c72-3fa9-4631-d246-b1a76dbf775a"
      },
      "execution_count": 18,
      "outputs": [
        {
          "output_type": "display_data",
          "data": {
            "text/plain": [
              "<Figure size 432x288 with 1 Axes>"
            ],
            "image/png": "[encoded data removed]"
          },
          "metadata": {
            "needs_background": "light"
          }
        }
      ]
    },
    {
      "cell_type": "code",
      "source": [
        "# Plot the accuracy function for the model\n",
        "import matplotlib.pyplot as plt\n",
        "\n",
        "plt.plot(history.history['accuracy'], label='train')\n",
        "plt.plot(history.history['val_loss'], label='test')\n",
        "\n",
        "plt.title('Model Accuracy')\n",
        "plt.ylabel('Accuracy')\n",
        "plt.xlabel('Epoch')\n",
        "plt.legend(['Train', 'Test'],\n",
        "            loc='upper left')\n",
        "plt.show()"
      ],
      "metadata": {
        "colab": {
          "base_uri": "https://localhost:8080/",
          "height": 295
        },
        "id": "Qka9z7RcnTJq",
        "outputId": "4dba89a3-c445-4762-9942-457eb74358f4"
      },
      "execution_count": 19,
      "outputs": [
        {
          "output_type": "display_data",
          "data": {
            "text/plain": [
              "<Figure size 432x288 with 1 Axes>"
            ],
            "image/png": "[encoded data removed]"
          },
          "metadata": {
            "needs_background": "light"
          }
        }
      ]
    },
    {
      "cell_type": "markdown",
      "source": [
        "#### model_adam = ADAM optimizer, Relu **Activation** "
      ],
      "metadata": {
        "id": "BoiT3ilm72Hf"
      }
    },
    {
      "cell_type": "code",
      "source": [
        "# Build model_adam = ADAM optimizer, Relu Activation function\n",
        "\n",
        "model_adam = tf.keras.models.Sequential([\n",
        "    # Note the input shape is the desired size of the image 150x150 with 3 bytes color\n",
        "    tf.keras.layers.Conv2D(16, (3,3), activation='relu', input_shape=(150, 150, 3)),\n",
        "    tf.keras.layers.MaxPooling2D(2,2),\n",
        "    tf.keras.layers.Conv2D(32, (3,3), activation='relu'),\n",
        "    tf.keras.layers.MaxPooling2D(2,2),\n",
        "    tf.keras.layers.Conv2D(64, (3,3), activation='relu'),\n",
        "    tf.keras.layers.MaxPooling2D(2,2),\n",
        "    tf.keras.layers.Conv2D(64, (3,3), activation='relu'),\n",
        "    tf.keras.layers.MaxPooling2D(2,2),\n",
        "    # Flatten the results to feed into a DNN\n",
        "    tf.keras.layers.Flatten(),\n",
        "    # 512 neuron hidden layer\n",
        "    tf.keras.layers.Dense(512, activation='relu'),\n",
        "    tf.keras.layers.Dense(6, activation='softmax')\n",
        "])\n",
        "\n",
        "from tensorflow.keras.optimizers import Adam\n",
        "\n",
        "# Compile the model\n",
        "model_adam.compile(optimizer='adam', loss='categorical_crossentropy', metrics=['accuracy'])\n",
        "model_adam.summary()\n",
        "\n",
        "\n",
        "    "
      ],
      "metadata": {
        "colab": {
          "base_uri": "https://localhost:8080/"
        },
        "id": "mV4hSeKq76XQ",
        "outputId": "ea768a52-ce9b-4918-893d-a3adb84effbe"
      },
      "execution_count": 20,
      "outputs": [
        {
          "output_type": "stream",
          "name": "stdout",
          "text": [
            "Model: \"sequential_5\"\n",
            "_________________________________________________________________\n",
            " Layer (type)                Output Shape              Param #   \n",
            "=================================================================\n",
            " conv2d_20 (Conv2D)          (None, 148, 148, 16)      448       \n",
            "                                                                 \n",
            " max_pooling2d_20 (MaxPoolin  (None, 74, 74, 16)       0         \n",
            " g2D)                                                            \n",
            "                                                                 \n",
            " conv2d_21 (Conv2D)          (None, 72, 72, 32)        4640      \n",
            "                                                                 \n",
            " max_pooling2d_21 (MaxPoolin  (None, 36, 36, 32)       0         \n",
            " g2D)                                                            \n",
            "                                                                 \n",
            " conv2d_22 (Conv2D)          (None, 34, 34, 64)        18496     \n",
            "                                                                 \n",
            " max_pooling2d_22 (MaxPoolin  (None, 17, 17, 64)       0         \n",
            " g2D)                                                            \n",
            "                                                                 \n",
            " conv2d_23 (Conv2D)          (None, 15, 15, 64)        36928     \n",
            "                                                                 \n",
            " max_pooling2d_23 (MaxPoolin  (None, 7, 7, 64)         0         \n",
            " g2D)                                                            \n",
            "                                                                 \n",
            " flatten_5 (Flatten)         (None, 3136)              0         \n",
            "                                                                 \n",
            " dense_10 (Dense)            (None, 512)               1606144   \n",
            "                                                                 \n",
            " dense_11 (Dense)            (None, 6)                 3078      \n",
            "                                                                 \n",
            "=================================================================\n",
            "Total params: 1,669,734\n",
            "Trainable params: 1,669,734\n",
            "Non-trainable params: 0\n",
            "_________________________________________________________________\n"
          ]
        }
      ]
    },
    {
      "cell_type": "code",
      "source": [
        "# Fit the model \n",
        "history = model.fit(train_generator,\n",
        "                   epochs=5,\n",
        "                   verbose=1,\n",
        "                   validation_data=validation_generator,\n",
        "                   callbacks=early_stopping_cb)\n"
      ],
      "metadata": {
        "colab": {
          "base_uri": "https://localhost:8080/"
        },
        "id": "Jyin21-183o5",
        "outputId": "c7383511-390a-4a3f-a2df-55d72afaaac4"
      },
      "execution_count": null,
      "outputs": [
        {
          "output_type": "stream",
          "name": "stdout",
          "text": [
            "Epoch 1/5\n",
            "442/442 [==============================] - 153s 347ms/step - loss: 1.4804 - accuracy: 0.4032 - val_loss: 1.3193 - val_accuracy: 0.4852\n",
            "Epoch 2/5\n",
            "442/442 [==============================] - 146s 331ms/step - loss: 1.4379 - accuracy: 0.4268 - val_loss: 1.2795 - val_accuracy: 0.4968\n",
            "Epoch 3/5\n",
            "323/442 [====================>.........] - ETA: 38s - loss: 1.4037 - accuracy: 0.4413"
          ]
        }
      ]
    },
    {
      "cell_type": "code",
      "source": [
        "# Evaluate the model_adam loss and accuracy metrics using the evaluate_generator method and the test generator\n",
        "test_loss, test_acc = model_adam.evaluate(validation_generator, verbose=2)\n",
        "\n",
        "# Display the model's loss and accuracy results\n",
        "print(f\"Model_Adam Loss: {test_loss}, Model_Adam Accuracy: {test_acc}\")\n"
      ],
      "metadata": {
        "id": "Pyw779zq83mo"
      },
      "execution_count": null,
      "outputs": []
    },
    {
      "cell_type": "markdown",
      "source": [
        "##### Accuracy/Plot Graph"
      ],
      "metadata": {
        "id": "0z08tpDpp9VY"
      }
    },
    {
      "cell_type": "code",
      "source": [
        "# Plot the loss function for the model\n",
        "import matplotlib.pyplot as plt\n",
        "\n",
        "plt.plot(history.history['loss'], label='train')\n",
        "plt.plot(history.history['val_loss'], label='test')\n",
        "\n",
        "plt.title('Model loss')\n",
        "plt.ylabel('Loss')\n",
        "plt.xlabel('Epoch')\n",
        "plt.legend(['Train', 'Test'], loc='upper left')\n",
        "plt.show()"
      ],
      "metadata": {
        "id": "coYexsKa83jg"
      },
      "execution_count": null,
      "outputs": []
    },
    {
      "cell_type": "code",
      "source": [
        "# Plot the accuracy function for the model\n",
        "import matplotlib.pyplot as plt\n",
        "\n",
        "plt.plot(history.history['accuracy'], label='train')\n",
        "plt.plot(history.history['val_loss'], label='test')\n",
        "\n",
        "plt.title('Model Accuracy')\n",
        "plt.ylabel('Accuracy')\n",
        "plt.xlabel('Epoch')\n",
        "plt.legend(['Train', 'Test'],\n",
        "            loc='upper left')\n",
        "plt.show()"
      ],
      "metadata": {
        "id": "7wAAm5WGqt75"
      },
      "execution_count": null,
      "outputs": []
    },
    {
      "cell_type": "markdown",
      "source": [
        "#### model_swish = RMS Optimizer, Swish **Activation** \n"
      ],
      "metadata": {
        "id": "n6ZNWknj9xgN"
      }
    },
    {
      "cell_type": "code",
      "source": [
        "# Build model_swish = RMS Optimizer, Swish Activation\n",
        "\n",
        "model_swish = tf.keras.models.Sequential([\n",
        "    # Note the input shape is the desired size of the image 150x150 with 3 bytes color\n",
        "    tf.keras.layers.Conv2D(16, (3,3), activation='swish', input_shape=(150, 150, 3)),\n",
        "    tf.keras.layers.MaxPooling2D(2,2),\n",
        "    tf.keras.layers.Conv2D(32, (3,3), activation='swish'),\n",
        "    tf.keras.layers.MaxPooling2D(2,2),\n",
        "    tf.keras.layers.Conv2D(64, (3,3), activation='swish'),\n",
        "    tf.keras.layers.MaxPooling2D(2,2),\n",
        "    tf.keras.layers.Conv2D(64, (3,3), activation='swish'),\n",
        "    tf.keras.layers.MaxPooling2D(2,2),\n",
        "    # Flatten the results to feed into a DNN\n",
        "    tf.keras.layers.Flatten(),\n",
        "    # 512 neuron hidden layer\n",
        "    tf.keras.layers.Dense(512, activation='swish'),\n",
        "    tf.keras.layers.Dense(6, activation='softmax')\n",
        "])\n",
        "\n",
        "# compile the model_swish\n",
        "model_swish.compile(optimizer=RMSprop(learning_rate=0.001), loss='categorical_crossentropy', metrics = ['accuracy']) \n",
        "model_swish.summary()\n"
      ],
      "metadata": {
        "id": "xGDqA5V283g_"
      },
      "execution_count": null,
      "outputs": []
    },
    {
      "cell_type": "code",
      "source": [
        "# Fit the model \n",
        "history = model.fit(train_generator,\n",
        "                   epochs=5,\n",
        "                   verbose=1,\n",
        "                   validation_data=validation_generator,\n",
        "                   callbacks=early_stopping_cb)\n"
      ],
      "metadata": {
        "colab": {
          "base_uri": "https://localhost:8080/"
        },
        "id": "818b04gd83dq",
        "outputId": "e991f50b-061a-460c-ce35-11b843828d65"
      },
      "execution_count": 26,
      "outputs": [
        {
          "output_type": "stream",
          "name": "stdout",
          "text": [
            "Epoch 1/5\n",
            "442/442 [==============================] - 141s 320ms/step - loss: 1.3436 - accuracy: 0.4674 - val_loss: 1.2366 - val_accuracy: 0.5223\n",
            "Epoch 2/5\n",
            "442/442 [==============================] - 141s 320ms/step - loss: 1.3248 - accuracy: 0.4777 - val_loss: 1.1945 - val_accuracy: 0.5376\n",
            "Epoch 3/5\n",
            "442/442 [==============================] - 143s 324ms/step - loss: 1.3159 - accuracy: 0.4797 - val_loss: 1.1867 - val_accuracy: 0.5422\n",
            "Epoch 4/5\n",
            "442/442 [==============================] - 144s 325ms/step - loss: 1.3008 - accuracy: 0.4910 - val_loss: 1.2142 - val_accuracy: 0.5299\n",
            "Epoch 5/5\n",
            "442/442 [==============================] - 144s 326ms/step - loss: 1.2885 - accuracy: 0.4933 - val_loss: 1.1855 - val_accuracy: 0.5316\n"
          ]
        }
      ]
    },
    {
      "cell_type": "code",
      "source": [
        "# Evaluate the model loss and accuracy metrics using the evaluate_generator method and the test generator\n",
        "test_loss, test_acc = model.evaluate(validation_generator, verbose=2)\n",
        "\n",
        "# Display the model's loss and accuracy results\n",
        "print(f\"Model_swish Loss: {test_loss}, Model_swish Accuracy: {test_acc}\")\n"
      ],
      "metadata": {
        "colab": {
          "base_uri": "https://localhost:8080/"
        },
        "id": "j15n4Iew83bZ",
        "outputId": "a75266b5-8ed3-4d99-e6e8-230afbe2b0c6"
      },
      "execution_count": 27,
      "outputs": [
        {
          "output_type": "stream",
          "name": "stdout",
          "text": [
            "114/114 - 4s - loss: 1.1855 - accuracy: 0.5316 - 4s/epoch - 37ms/step\n",
            "Model_swish Loss: 1.1854557991027832, Model_swish Accuracy: 0.5316258668899536\n"
          ]
        }
      ]
    },
    {
      "cell_type": "markdown",
      "source": [
        "##### Accuracy/Plot Graph"
      ],
      "metadata": {
        "id": "YC16pltZqDHG"
      }
    },
    {
      "cell_type": "code",
      "source": [
        "# Plot the loss function for the model\n",
        "import matplotlib.pyplot as plt\n",
        "\n",
        "plt.plot(history.history['loss'], label='train')\n",
        "plt.plot(history.history['val_loss'], label='test')\n",
        "\n",
        "plt.title('Model loss')\n",
        "plt.ylabel('Loss')\n",
        "plt.xlabel('Epoch')\n",
        "plt.legend(['Train', 'Test'], loc='upper left')\n",
        "plt.show()"
      ],
      "metadata": {
        "colab": {
          "base_uri": "https://localhost:8080/",
          "height": 295
        },
        "id": "O2Ip104toJBm",
        "outputId": "322c96ef-61fe-418e-eb55-ecab4abd65b8"
      },
      "execution_count": 28,
      "outputs": [
        {
          "output_type": "display_data",
          "data": {
            "text/plain": [
              "<Figure size 432x288 with 1 Axes>"
            ],
            "image/png": "[encoded data removed]"
          },
          "metadata": {
            "needs_background": "light"
          }
        }
      ]
    },
    {
      "cell_type": "code",
      "source": [
        "# Plot the accuracy function for the model\n",
        "import matplotlib.pyplot as plt\n",
        "\n",
        "plt.plot(history.history['accuracy'], label='train')\n",
        "plt.plot(history.history['val_loss'], label='test')\n",
        "\n",
        "plt.title('Model Accuracy')\n",
        "plt.ylabel('Accuracy')\n",
        "plt.xlabel('Epoch')\n",
        "plt.legend(['Train', 'Test'],\n",
        "            loc='upper left')\n",
        "plt.show()"
      ],
      "metadata": {
        "colab": {
          "base_uri": "https://localhost:8080/",
          "height": 295
        },
        "id": "EKNIZATZoIvr",
        "outputId": "84cf2160-0ab2-4508-cbd2-9dea510e46af"
      },
      "execution_count": 29,
      "outputs": [
        {
          "output_type": "display_data",
          "data": {
            "text/plain": [
              "<Figure size 432x288 with 1 Axes>"
            ],
            "image/png": "[encoded data removed]"
          },
          "metadata": {
            "needs_background": "light"
          }
        }
      ]
    },
    {
      "cell_type": "markdown",
      "source": [
        "#### model_adam_swish = ADAM optimizer, Swish Activation"
      ],
      "metadata": {
        "id": "YXNyq1AXSibE"
      }
    },
    {
      "cell_type": "code",
      "source": [
        "# Build model_adam_swish = ADAM Optimizer, Swish Activation\n",
        "\n",
        "model_adam_swish = tf.keras.models.Sequential([\n",
        "    # Note the input shape is the desired size of the image 150x150 with 3 bytes color\n",
        "    tf.keras.layers.Conv2D(16, (3,3), activation='swish', input_shape=(150, 150, 3)),\n",
        "    tf.keras.layers.MaxPooling2D(2,2),\n",
        "    tf.keras.layers.Conv2D(32, (3,3), activation='swish'),\n",
        "    tf.keras.layers.MaxPooling2D(2,2),\n",
        "    tf.keras.layers.Conv2D(64, (3,3), activation='swish'),\n",
        "    tf.keras.layers.MaxPooling2D(2,2),\n",
        "    tf.keras.layers.Conv2D(64, (3,3), activation='swish'),\n",
        "    tf.keras.layers.MaxPooling2D(2,2),\n",
        "    # Flatten the results to feed into a DNN\n",
        "    tf.keras.layers.Flatten(),\n",
        "    # 512 neuron hidden layer\n",
        "    tf.keras.layers.Dense(512, activation='swish'),\n",
        "    tf.keras.layers.Dense(6, activation='softmax')\n",
        "])\n",
        "\n",
        "model_adam_swish.compile(optimizer=Adam(learning_rate=0.001),\n",
        "                loss='categorical_crossentropy',\n",
        "                metrics = ['accuracy'])\n",
        "model_adam_swish.summary()\n",
        "# keras.utils.plot_model(model_adam_swish)\n",
        "\n"
      ],
      "metadata": {
        "colab": {
          "base_uri": "https://localhost:8080/"
        },
        "id": "PT9xJ9xe83Xo",
        "outputId": "63f4a35f-7170-4481-a182-88b00eb82f95"
      },
      "execution_count": 30,
      "outputs": [
        {
          "output_type": "stream",
          "name": "stdout",
          "text": [
            "Model: \"sequential_7\"\n",
            "_________________________________________________________________\n",
            " Layer (type)                Output Shape              Param #   \n",
            "=================================================================\n",
            " conv2d_28 (Conv2D)          (None, 148, 148, 16)      448       \n",
            "                                                                 \n",
            " max_pooling2d_28 (MaxPoolin  (None, 74, 74, 16)       0         \n",
            " g2D)                                                            \n",
            "                                                                 \n",
            " conv2d_29 (Conv2D)          (None, 72, 72, 32)        4640      \n",
            "                                                                 \n",
            " max_pooling2d_29 (MaxPoolin  (None, 36, 36, 32)       0         \n",
            " g2D)                                                            \n",
            "                                                                 \n",
            " conv2d_30 (Conv2D)          (None, 34, 34, 64)        18496     \n",
            "                                                                 \n",
            " max_pooling2d_30 (MaxPoolin  (None, 17, 17, 64)       0         \n",
            " g2D)                                                            \n",
            "                                                                 \n",
            " conv2d_31 (Conv2D)          (None, 15, 15, 64)        36928     \n",
            "                                                                 \n",
            " max_pooling2d_31 (MaxPoolin  (None, 7, 7, 64)         0         \n",
            " g2D)                                                            \n",
            "                                                                 \n",
            " flatten_7 (Flatten)         (None, 3136)              0         \n",
            "                                                                 \n",
            " dense_14 (Dense)            (None, 512)               1606144   \n",
            "                                                                 \n",
            " dense_15 (Dense)            (None, 6)                 3078      \n",
            "                                                                 \n",
            "=================================================================\n",
            "Total params: 1,669,734\n",
            "Trainable params: 1,669,734\n",
            "Non-trainable params: 0\n",
            "_________________________________________________________________\n"
          ]
        }
      ]
    },
    {
      "cell_type": "code",
      "source": [
        "# Fit the model \n",
        "history = model.fit(train_generator,\n",
        "                   epochs=5,\n",
        "                   verbose=1,\n",
        "                   validation_data=validation_generator,\n",
        "                   callbacks=early_stopping_cb)\n"
      ],
      "metadata": {
        "colab": {
          "base_uri": "https://localhost:8080/"
        },
        "id": "oLzHrWVF83Tp",
        "outputId": "8f083993-6bbc-4b2b-d130-1f3ef27a9f00"
      },
      "execution_count": 31,
      "outputs": [
        {
          "output_type": "stream",
          "name": "stdout",
          "text": [
            "Epoch 1/5\n",
            "442/442 [==============================] - 144s 325ms/step - loss: 1.2756 - accuracy: 0.4972 - val_loss: 1.1857 - val_accuracy: 0.5411\n",
            "Epoch 2/5\n",
            "442/442 [==============================] - 144s 325ms/step - loss: 1.2734 - accuracy: 0.5013 - val_loss: 1.1771 - val_accuracy: 0.5350\n",
            "Epoch 3/5\n",
            "442/442 [==============================] - 145s 327ms/step - loss: 1.2704 - accuracy: 0.5023 - val_loss: 1.1804 - val_accuracy: 0.5405\n",
            "Epoch 4/5\n",
            "442/442 [==============================] - 144s 326ms/step - loss: 1.2661 - accuracy: 0.5097 - val_loss: 1.1779 - val_accuracy: 0.5496\n",
            "Epoch 5/5\n",
            "442/442 [==============================] - 143s 323ms/step - loss: 1.2564 - accuracy: 0.5062 - val_loss: 1.1515 - val_accuracy: 0.5538\n"
          ]
        }
      ]
    },
    {
      "cell_type": "code",
      "source": [
        "# Evaluate the model loss and accuracy metrics using the evaluate_generator method and the test generator\n",
        "test_loss, test_acc = model.evaluate(validation_generator, verbose=2)\n",
        "\n",
        "print(f\"Model_adam_swish Loss: {test_loss}, Model_adam_swish Accuracy: {test_acc}\")\n",
        "\n"
      ],
      "metadata": {
        "id": "TDKPez62Ab34"
      },
      "execution_count": null,
      "outputs": []
    },
    {
      "cell_type": "markdown",
      "source": [
        "##### model_adam_swish saved"
      ],
      "metadata": {
        "id": "pAYSU8QzkqQk"
      }
    },
    {
      "cell_type": "code",
      "source": [
        "# save the model to g-drive because files are discarded on colab after a period of time\n",
        "# change the name each time or it will be overwritten\n",
        "model.save('adam_swish.h5')\n",
        "\n",
        "#model.save(\"/content/drive/MyDrive/Colab Notebooks/Project 2_ Emotion Recognition/facial_reco_whole_model_V3\")\n",
        "# change the file name!!"
      ],
      "metadata": {
        "id": "d0MbFDnPkE_t"
      },
      "execution_count": 34,
      "outputs": []
    },
    {
      "cell_type": "markdown",
      "source": [
        "##### Accuracy/Plot Graph"
      ],
      "metadata": {
        "id": "vVE_1LMkqFvv"
      }
    },
    {
      "cell_type": "code",
      "source": [
        "# Plot the loss function for the model\n",
        "import matplotlib.pyplot as plt\n",
        "\n",
        "plt.plot(history.history['loss'], label='train')\n",
        "plt.plot(history.history['val_loss'], label='test')\n",
        "\n",
        "plt.title('Model loss')\n",
        "plt.ylabel('Loss')\n",
        "plt.xlabel('Epoch')\n",
        "plt.legend(['Train', 'Test'], loc='upper left')\n",
        "plt.show()"
      ],
      "metadata": {
        "id": "xhs35HpkAb0w",
        "colab": {
          "base_uri": "https://localhost:8080/",
          "height": 295
        },
        "outputId": "5f08cf47-92a3-472d-fb7b-3980f143bccc"
      },
      "execution_count": 35,
      "outputs": [
        {
          "output_type": "display_data",
          "data": {
            "text/plain": [
              "<Figure size 432x288 with 1 Axes>"
            ],
            "image/png": "[encoded data removed]"
          },
          "metadata": {
            "needs_background": "light"
          }
        }
      ]
    },
    {
      "cell_type": "code",
      "source": [
        "# Plot the accuracy function for the model\n",
        "import matplotlib.pyplot as plt\n",
        "\n",
        "plt.plot(history.history['accuracy'], label='train')\n",
        "plt.plot(history.history['val_loss'], label='test')\n",
        "\n",
        "plt.title('Model Accuracy')\n",
        "plt.ylabel('Accuracy')\n",
        "plt.xlabel('Epoch')\n",
        "plt.legend(['Train', 'Test'],\n",
        "            loc='upper left')\n",
        "plt.show()"
      ],
      "metadata": {
        "colab": {
          "base_uri": "https://localhost:8080/",
          "height": 295
        },
        "id": "fpd9s_-ZoMtH",
        "outputId": "2269fe95-9aa7-4e72-de04-a3058f4a022f"
      },
      "execution_count": 36,
      "outputs": [
        {
          "output_type": "display_data",
          "data": {
            "text/plain": [
              "<Figure size 432x288 with 1 Axes>"
            ],
            "image/png": "[encoded data removed]"
          },
          "metadata": {
            "needs_background": "light"
          }
        }
      ]
    },
    {
      "cell_type": "markdown",
      "source": [
        "#### model_cnn = Convolutional Neural Network"
      ],
      "metadata": {
        "id": "mwhIURkPChVv"
      }
    },
    {
      "cell_type": "code",
      "source": [
        "# Set the CNN model_CNN \n",
        "# my CNN architechture is In -> [[Conv2D->relu]*2 -> MaxPool2D -> Dropout]*2 -> Flatten -> Dense -> Dropout -> Out\n",
        "\n",
        "import tensorflow as tf\n",
        "\n",
        "model_CNN = tf.keras.models.Sequential([\n",
        "tf.keras.layers.Conv2D(16, (3,3), activation ='relu', input_shape = (150,150,3)),\n",
        "tf.keras.layers.MaxPool2D(pool_size=(2,2)),\n",
        "tf.keras.layers.Dropout(0.25),\n",
        "tf.keras.layers.Conv2D(16, (3,3), activation ='relu', input_shape = (150,150,3)),\n",
        "tf.keras.layers.Conv2D(16, (3,3), activation ='relu', input_shape = (150,150,3)),\n",
        "tf.keras.layers.MaxPool2D(pool_size=(2,2), strides=(2,2)),\n",
        "tf.keras.layers.Dropout(0.25),\n",
        "tf.keras.layers.Flatten(),\n",
        "tf.keras.layers.Dense(512, activation = \"swish\"),\n",
        "tf.keras.layers.Dropout(0.5),\n",
        "tf.keras.layers.Dense(10, activation = \"softmax\")\n",
        "])\n",
        "\n",
        "# Compile the model_CNN\n",
        "model_CNN.compile(optimizer= RMSprop(lr=0.001, rho=0.9, epsilon=1e-08, decay=0.0),\n",
        "                  loss = \"categorical_crossentropy\",\n",
        "                  metrics=[\"accuracy\"])\n",
        "\n",
        "model_CNN.summary()\n",
        "\n"
      ],
      "metadata": {
        "colab": {
          "base_uri": "https://localhost:8080/"
        },
        "id": "BUkwsyk9KP9b",
        "outputId": "17458b21-d1b9-4aff-a2ad-851fdc1bcd62"
      },
      "execution_count": 37,
      "outputs": [
        {
          "output_type": "stream",
          "name": "stdout",
          "text": [
            "Model: \"sequential_8\"\n",
            "_________________________________________________________________\n",
            " Layer (type)                Output Shape              Param #   \n",
            "=================================================================\n",
            " conv2d_32 (Conv2D)          (None, 148, 148, 16)      448       \n",
            "                                                                 \n",
            " max_pooling2d_32 (MaxPoolin  (None, 74, 74, 16)       0         \n",
            " g2D)                                                            \n",
            "                                                                 \n",
            " dropout (Dropout)           (None, 74, 74, 16)        0         \n",
            "                                                                 \n",
            " conv2d_33 (Conv2D)          (None, 72, 72, 16)        2320      \n",
            "                                                                 \n",
            " conv2d_34 (Conv2D)          (None, 70, 70, 16)        2320      \n",
            "                                                                 \n",
            " max_pooling2d_33 (MaxPoolin  (None, 35, 35, 16)       0         \n",
            " g2D)                                                            \n",
            "                                                                 \n",
            " dropout_1 (Dropout)         (None, 35, 35, 16)        0         \n",
            "                                                                 \n",
            " flatten_8 (Flatten)         (None, 19600)             0         \n",
            "                                                                 \n",
            " dense_16 (Dense)            (None, 512)               10035712  \n",
            "                                                                 \n",
            " dropout_2 (Dropout)         (None, 512)               0         \n",
            "                                                                 \n",
            " dense_17 (Dense)            (None, 10)                5130      \n",
            "                                                                 \n",
            "=================================================================\n",
            "Total params: 10,045,930\n",
            "Trainable params: 10,045,930\n",
            "Non-trainable params: 0\n",
            "_________________________________________________________________\n"
          ]
        },
        {
          "output_type": "stream",
          "name": "stderr",
          "text": [
            "/usr/local/lib/python3.7/dist-packages/keras/optimizer_v2/rmsprop.py:130: UserWarning: The `lr` argument is deprecated, use `learning_rate` instead.\n",
            "  super(RMSprop, self).__init__(name, **kwargs)\n"
          ]
        }
      ]
    },
    {
      "cell_type": "code",
      "source": [
        "# Fit the model \n",
        "history = model.fit(train_generator,\n",
        "                   epochs=5,\n",
        "                   verbose=1,\n",
        "                   validation_data=validation_generator,\n",
        "                   callbacks=early_stopping_cb)"
      ],
      "metadata": {
        "id": "2_wyKiviAbrz",
        "colab": {
          "base_uri": "https://localhost:8080/"
        },
        "outputId": "92e61726-b745-47b7-9a07-8be95d673a7e"
      },
      "execution_count": null,
      "outputs": [
        {
          "output_type": "stream",
          "name": "stdout",
          "text": [
            "Epoch 1/5\n",
            "442/442 [==============================] - 152s 344ms/step - loss: 1.2260 - accuracy: 0.5248 - val_loss: 1.1500 - val_accuracy: 0.5571\n",
            "Epoch 2/5\n",
            "442/442 [==============================] - 140s 316ms/step - loss: 1.2295 - accuracy: 0.5235 - val_loss: 1.1630 - val_accuracy: 0.5476\n",
            "Epoch 3/5\n",
            "442/442 [==============================] - 141s 318ms/step - loss: 1.2274 - accuracy: 0.5250 - val_loss: 1.1500 - val_accuracy: 0.5592\n",
            "Epoch 4/5\n",
            "442/442 [==============================] - 140s 316ms/step - loss: 1.2281 - accuracy: 0.5226 - val_loss: 1.1761 - val_accuracy: 0.5421\n",
            "Epoch 5/5\n",
            "442/442 [==============================] - 139s 315ms/step - loss: 1.2288 - accuracy: 0.5199 - val_loss: 1.1758 - val_accuracy: 0.5465\n"
          ]
        }
      ]
    },
    {
      "cell_type": "code",
      "source": [
        "# Evaluate the model loss and accuracy metrics using the evaluate_generator method and the test generator\n",
        "test_loss, test_acc = model.evaluate(validation_generator, verbose=2)\n",
        "\n",
        "print(f\"Model_cnn Loss: {test_loss}, Model_cnn Accuracy: {test_acc}\")"
      ],
      "metadata": {
        "id": "tHYfYHF_Abor",
        "colab": {
          "base_uri": "https://localhost:8080/"
        },
        "outputId": "4c96e772-2cc3-42b0-c314-23538ee32e8a"
      },
      "execution_count": null,
      "outputs": [
        {
          "output_type": "stream",
          "name": "stdout",
          "text": [
            "114/114 - 4s - loss: 1.1758 - accuracy: 0.5465 - 4s/epoch - 39ms/step\n",
            "Model_cnn Loss: 1.1758086681365967, Model_cnn Accuracy: 0.5464836359024048\n"
          ]
        }
      ]
    },
    {
      "cell_type": "markdown",
      "source": [
        "##### Accuracy/Plot Graph"
      ],
      "metadata": {
        "id": "cUkLiQuyqMau"
      }
    },
    {
      "cell_type": "code",
      "source": [
        "# Plot the loss function for the model\n",
        "import matplotlib.pyplot as plt\n",
        "\n",
        "plt.plot(history.history['loss'], label='train')\n",
        "plt.plot(history.history['val_loss'], label='test')\n",
        "\n",
        "plt.title('Model loss')\n",
        "plt.ylabel('Loss')\n",
        "plt.xlabel('Epoch')\n",
        "plt.legend(['Train', 'Test'], loc='upper left')\n",
        "plt.show()"
      ],
      "metadata": {
        "colab": {
          "base_uri": "https://localhost:8080/",
          "height": 295
        },
        "id": "ICsBoMJIoPTA",
        "outputId": "59a2fb09-c366-4faa-d86d-064675e86051"
      },
      "execution_count": null,
      "outputs": [
        {
          "output_type": "display_data",
          "data": {
            "text/plain": [
              "<Figure size 432x288 with 1 Axes>"
            ],
            "image/png": "[encoded data removed]"
          },
          "metadata": {
            "needs_background": "light"
          }
        }
      ]
    },
    {
      "cell_type": "code",
      "source": [
        "# Plot the accuracy function for the model\n",
        "import matplotlib.pyplot as plt\n",
        "\n",
        "plt.plot(history.history['accuracy'], label='train')\n",
        "plt.plot(history.history['val_loss'], label='test')\n",
        "\n",
        "plt.title('Model Accuracy')\n",
        "plt.ylabel('Accuracy')\n",
        "plt.xlabel('Epoch')\n",
        "plt.legend(['Train', 'Test'],\n",
        "            loc='upper left')\n",
        "plt.show()"
      ],
      "metadata": {
        "colab": {
          "base_uri": "https://localhost:8080/",
          "height": 295
        },
        "id": "KSWMYDtyq2E7",
        "outputId": "8c1ed4e5-e7af-40cb-963f-a6c49e1ff6cb"
      },
      "execution_count": null,
      "outputs": [
        {
          "output_type": "display_data",
          "data": {
            "text/plain": [
              "<Figure size 432x288 with 1 Axes>"
            ],
            "image/png": "[encoded data removed]"
          },
          "metadata": {
            "needs_background": "light"
          }
        }
      ]
    },
    {
      "cell_type": "markdown",
      "source": [
        "### Confusion Matrix"
      ],
      "metadata": {
        "id": "Q7YYMThUx5yL"
      }
    },
    {
      "cell_type": "code",
      "source": [
        "# Confusion Matrix\n",
        "# model_adam\n",
        "\n",
        "from sklearn.metrics import confusion_matrix\n",
        "import seaborn as sns\n",
        "    \n",
        "y_pred = model_adam.predict(validation_generator)\n",
        "y_pred = np.argmax(y_pred, axis=1)\n",
        "print('Confusion Matrix')\n",
        "print(confusion_matrix(validation_generator.classes, y_pred))\n",
        "cm = confusion_matrix(validation_generator.classes, y_pred)\n",
        "plt.figure(figsize=(10,7))\n",
        "sns.heatmap(cm, annot=True)\n",
        "plt.xlabel('Predicted')\n",
        "plt.ylabel('Truth')\n",
        " "
      ],
      "metadata": {
        "colab": {
          "base_uri": "https://localhost:8080/",
          "height": 581
        },
        "id": "GTvx3hEgNKIT",
        "outputId": "0176f602-2be6-4e58-e8b7-e3342f190178"
      },
      "execution_count": null,
      "outputs": [
        {
          "output_type": "stream",
          "name": "stdout",
          "text": [
            "Confusion Matrix\n",
            "[[   0  306    0  652    0    0]\n",
            " [   0  349    0  675    0    0]\n",
            " [   0  593    0 1181    0    0]\n",
            " [   0  424    0  809    0    0]\n",
            " [   0  390    0  857    0    0]\n",
            " [   1  262    1  567    0    0]]\n"
          ]
        },
        {
          "output_type": "execute_result",
          "data": {
            "text/plain": [
              "Text(69.0, 0.5, 'Truth')"
            ]
          },
          "metadata": {},
          "execution_count": 71
        },
        {
          "output_type": "display_data",
          "data": {
            "text/plain": [
              "<Figure size 720x504 with 2 Axes>"
            ],
            "image/png": "[encoded data removed]"
          },
          "metadata": {
            "needs_background": "light"
          }
        }
      ]
    },
    {
      "cell_type": "code",
      "source": [
        "# Confusion Matrix\n",
        "# model\n",
        "from sklearn.metrics import confusion_matrix\n",
        "import seaborn as sns\n",
        "    \n",
        "y_pred = model.predict(validation_generator)\n",
        "y_pred = np.argmax(y_pred, axis=1)\n",
        "print('Confusion Matrix')\n",
        "print(confusion_matrix(validation_generator.classes, y_pred))\n",
        "cm = confusion_matrix(validation_generator.classes, y_pred)\n",
        "plt.figure(figsize=(10,7))\n",
        "sns.heatmap(cm, annot=True)\n",
        "plt.xlabel('Predicted')\n",
        "plt.ylabel('Truth')\n",
        " \n"
      ],
      "metadata": {
        "colab": {
          "base_uri": "https://localhost:8080/",
          "height": 581
        },
        "id": "MEm0rN0kNJxc",
        "outputId": "1a89a837-d640-401a-9049-92ca9ee68878"
      },
      "execution_count": null,
      "outputs": [
        {
          "output_type": "stream",
          "name": "stdout",
          "text": [
            "Confusion Matrix\n",
            "[[102  70 261 159 252 114]\n",
            " [ 88  98 296 188 246 108]\n",
            " [175 139 529 311 454 166]\n",
            " [112 100 334 208 356 123]\n",
            " [117 114 344 232 328 112]\n",
            " [ 69  67 232 151 239  73]]\n"
          ]
        },
        {
          "output_type": "execute_result",
          "data": {
            "text/plain": [
              "Text(69.0, 0.5, 'Truth')"
            ]
          },
          "metadata": {},
          "execution_count": 72
        },
        {
          "output_type": "display_data",
          "data": {
            "text/plain": [
              "<Figure size 720x504 with 2 Axes>"
            ],
            "image/png": "[encoded data removed]"
          },
          "metadata": {
            "needs_background": "light"
          }
        }
      ]
    },
    {
      "cell_type": "code",
      "source": [
        "# Confusion Matrix\n",
        "# model_swish\n",
        "\n",
        "from sklearn.metrics import confusion_matrix\n",
        "import seaborn as sns\n",
        "    \n",
        "y_pred = model_swish.predict(validation_generator)\n",
        "y_pred = np.argmax(y_pred, axis=1)\n",
        "print('Confusion Matrix')\n",
        "print(confusion_matrix(validation_generator.classes, y_pred))\n",
        "cm = confusion_matrix(validation_generator.classes, y_pred)\n",
        "plt.figure(figsize=(10,7))\n",
        "sns.heatmap(cm, annot=True)\n",
        "plt.xlabel('Predicted')\n",
        "plt.ylabel('Truth')\n",
        " \n"
      ],
      "metadata": {
        "colab": {
          "base_uri": "https://localhost:8080/",
          "height": 581
        },
        "id": "HNdkRMCkwqnY",
        "outputId": "517f8147-49ee-4e2f-9e41-725dbe4fc352"
      },
      "execution_count": null,
      "outputs": [
        {
          "output_type": "stream",
          "name": "stdout",
          "text": [
            "Confusion Matrix\n",
            "[[  14   29  615   97  164   39]\n",
            " [  16   28  645  124  171   40]\n",
            " [  21   50 1151  182  304   66]\n",
            " [   9   34  815  127  200   48]\n",
            " [  18   39  799  141  198   52]\n",
            " [  17   31  512   94  138   39]]\n"
          ]
        },
        {
          "output_type": "execute_result",
          "data": {
            "text/plain": [
              "Text(69.0, 0.5, 'Truth')"
            ]
          },
          "metadata": {},
          "execution_count": 73
        },
        {
          "output_type": "display_data",
          "data": {
            "text/plain": [
              "<Figure size 720x504 with 2 Axes>"
            ],
            "image/png": "[encoded data removed]"
          },
          "metadata": {
            "needs_background": "light"
          }
        }
      ]
    },
    {
      "cell_type": "code",
      "source": [
        "# Confusion Matrix\n",
        "# model_adam_swish\n",
        "\n",
        "from sklearn.metrics import confusion_matrix\n",
        "import seaborn as sns\n",
        "    \n",
        "y_pred = model_adam_swish.predict(validation_generator)\n",
        "y_pred = np.argmax(y_pred, axis=1)\n",
        "print('Confusion Matrix')\n",
        "print(confusion_matrix(validation_generator.classes, y_pred))\n",
        "cm = confusion_matrix(validation_generator.classes, y_pred)\n",
        "plt.figure(figsize=(10,7))\n",
        "sns.heatmap(cm, annot=True)\n",
        "plt.xlabel('Predicted')\n",
        "plt.ylabel('Truth')\n",
        " "
      ],
      "metadata": {
        "id": "d0kYWh35w3s7",
        "outputId": "e2b72d3c-c041-475f-f2f7-50bb9e3ad453",
        "colab": {
          "base_uri": "https://localhost:8080/",
          "height": 581
        }
      },
      "execution_count": null,
      "outputs": [
        {
          "output_type": "stream",
          "name": "stdout",
          "text": [
            "Confusion Matrix\n",
            "[[   0    0  554  395    8    1]\n",
            " [   0    0  587  428    8    1]\n",
            " [   1    0 1030  723   18    2]\n",
            " [   0    0  696  524   11    2]\n",
            " [   0    0  723  515    7    2]\n",
            " [   0    1  468  356    5    1]]\n"
          ]
        },
        {
          "output_type": "execute_result",
          "data": {
            "text/plain": [
              "Text(69.0, 0.5, 'Truth')"
            ]
          },
          "metadata": {},
          "execution_count": 74
        },
        {
          "output_type": "display_data",
          "data": {
            "text/plain": [
              "<Figure size 720x504 with 2 Axes>"
            ],
            "image/png": "[encoded data removed]"
          },
          "metadata": {
            "needs_background": "light"
          }
        }
      ]
    },
    {
      "cell_type": "code",
      "source": [
        "# Confusion Matrix\n",
        "# model_cnn\n",
        "\n",
        "from sklearn.metrics import confusion_matrix\n",
        "import seaborn as sns\n",
        "    \n",
        "y_pred = model_CNN.predict(validation_generator)\n",
        "y_pred = np.argmax(y_pred, axis=1)\n",
        "print('Confusion Matrix')\n",
        "print(confusion_matrix(validation_generator.classes, y_pred))\n",
        "cm = confusion_matrix(validation_generator.classes, y_pred)\n",
        "plt.figure(figsize=(10,7))\n",
        "sns.heatmap(cm, annot=True)\n",
        "plt.xlabel('Predicted')\n",
        "plt.ylabel('Truth')"
      ],
      "metadata": {
        "id": "-ySWHM9tw3Qr",
        "colab": {
          "base_uri": "https://localhost:8080/",
          "height": 633
        },
        "outputId": "5193ff46-20a4-40c3-e79a-610c03d8c663"
      },
      "execution_count": null,
      "outputs": [
        {
          "output_type": "stream",
          "name": "stdout",
          "text": [
            "Confusion Matrix\n",
            "[[ 859    3    0    0   10   25   38   23    0]\n",
            " [ 912    7    0    0    8   24   48   24    1]\n",
            " [1587    2    0    1   17   48   65   52    2]\n",
            " [1119    8    1    0   16   20   38   29    2]\n",
            " [1138    3    0    0   15   27   39   24    1]\n",
            " [ 753    5    0    0    8   23   18   24    0]\n",
            " [   0    0    0    0    0    0    0    0    0]\n",
            " [   0    0    0    0    0    0    0    0    0]\n",
            " [   0    0    0    0    0    0    0    0    0]]\n"
          ]
        },
        {
          "output_type": "execute_result",
          "data": {
            "text/plain": [
              "Text(69.0, 0.5, 'Truth')"
            ]
          },
          "metadata": {},
          "execution_count": 99
        },
        {
          "output_type": "display_data",
          "data": {
            "text/plain": [
              "<Figure size 720x504 with 2 Axes>"
            ],
            "image/png": "[encoded data removed]"
          },
          "metadata": {
            "needs_background": "light"
          }
        }
      ]
    }
  ]
}