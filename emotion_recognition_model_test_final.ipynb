{
  "nbformat": 4,
  "nbformat_minor": 0,
  "metadata": {
    "colab": {
      "provenance": [],
      "collapsed_sections": [],
      "toc_visible": true,
      "mount_file_id": "https://github.com/DigitalGoldRush/Project-2-Emotional-recognition/blob/main/emotion_recognition_v2.ipynb",
      "authorship_tag": "ABX9TyN14enlyGbM2bszN/SGKOA1",
      "include_colab_link": true
    },
    "kernelspec": {
      "name": "python3",
      "display_name": "Python 3"
    },
    "language_info": {
      "name": "python"
    },
    "accelerator": "GPU",
    "gpuClass": "premium"
  },
  "cells": [
    {
      "cell_type": "markdown",
      "metadata": {
        "id": "view-in-github",
        "colab_type": "text"
      },
      "source": [
        "<a href=\"https://colab.research.google.com/github/DigitalGoldRush/Project-2-Emotional-recognition/blob/main/emotion_recognition_model_test_final.ipynb\" target=\"_parent\"><img src=\"https://colab.research.google.com/assets/colab-badge.svg\" alt=\"Open In Colab\"/></a>"
      ]
    },
    {
      "cell_type": "code",
      "source": [
        "import tensorflow as tf\n",
        "import numpy as np\n",
        "import pandas as pd\n",
        "import random\n",
        "from tensorflow import keras\n",
        "from keras import layers\n",
        "from keras import Model\n",
        "from keras.preprocessing.image import ImageDataGenerator\n",
        "from keras.applications.inception_v3 import InceptionV3\n",
        "RANDOM_SEED = 123\n"
      ],
      "metadata": {
        "id": "z0elcJHShGG-"
      },
      "execution_count": null,
      "outputs": []
    },
    {
      "cell_type": "code",
      "source": [
        "#Faster way to upload zip files from gdrive to colab\n",
        "# ID of Kaggle emotional dataset\n",
        "! gdown --id 1wrwLq6DqNHLDxU18RYUPY0WcV4ZNG70P"
      ],
      "metadata": {
        "colab": {
          "base_uri": "https://localhost:8080/"
        },
        "id": "Wn0TtaIEEFCE",
        "outputId": "408eea54-f858-4e62-f850-b7a84a2c7675"
      },
      "execution_count": null,
      "outputs": [
        {
          "output_type": "stream",
          "name": "stdout",
          "text": [
            "/usr/local/lib/python3.7/dist-packages/gdown/cli.py:131: FutureWarning: Option `--id` was deprecated in version 4.3.1 and will be removed in 5.0. You don't need to pass it anymore to use a file ID.\n",
            "  category=FutureWarning,\n",
            "Downloading...\n",
            "From: https://drive.google.com/uc?id=1wrwLq6DqNHLDxU18RYUPY0WcV4ZNG70P\n",
            "To: /content/emotional dataset.zip\n",
            "100% 62.6M/62.6M [00:01<00:00, 39.5MB/s]\n"
          ]
        }
      ]
    },
    {
      "cell_type": "code",
      "source": [
        "# zip file opener\n",
        "!pip install patool\n",
        "import patoolib"
      ],
      "metadata": {
        "colab": {
          "base_uri": "https://localhost:8080/"
        },
        "id": "ME1TqApuHMIl",
        "outputId": "bde2a975-43af-4b70-dbef-efd546f4e959"
      },
      "execution_count": null,
      "outputs": [
        {
          "output_type": "stream",
          "name": "stdout",
          "text": [
            "Looking in indexes: https://pypi.org/simple, https://us-python.pkg.dev/colab-wheels/public/simple/\n",
            "Collecting patool\n",
            "  Downloading patool-1.12-py2.py3-none-any.whl (77 kB)\n",
            "\u001b[K     |████████████████████████████████| 77 kB 6.6 MB/s \n",
            "\u001b[?25hInstalling collected packages: patool\n",
            "Successfully installed patool-1.12\n"
          ]
        }
      ]
    },
    {
      "cell_type": "code",
      "source": [
        "patoolib.extract_archive('/content/emotional dataset.zip')"
      ],
      "metadata": {
        "colab": {
          "base_uri": "https://localhost:8080/",
          "height": 107
        },
        "id": "I8AeYeVIHlB2",
        "outputId": "9adcd7b9-b543-4158-f4f7-39d08fa763a9"
      },
      "execution_count": null,
      "outputs": [
        {
          "output_type": "stream",
          "name": "stdout",
          "text": [
            "patool: Extracting /content/emotional dataset.zip ...\n",
            "patool: running /usr/bin/7z x -o./Unpack_al0i41jy -- \"/content/emotional dataset.zip\"\n",
            "patool: ... /content/emotional dataset.zip extracted to `emotional dataset' (multiple files in root).\n"
          ]
        },
        {
          "output_type": "execute_result",
          "data": {
            "text/plain": [
              "'emotional dataset'"
            ],
            "application/vnd.google.colaboratory.intrinsic+json": {
              "type": "string"
            }
          },
          "metadata": {},
          "execution_count": 4
        }
      ]
    },
    {
      "cell_type": "code",
      "source": [
        "import os\n",
        "for dirname, _, filenames in os.walk('/kaggle/input'):\n",
        "    for filename in filenames:\n",
        "        os.path.join(dirname, filename)"
      ],
      "metadata": {
        "id": "5MeUdG3u3DEP"
      },
      "execution_count": null,
      "outputs": []
    },
    {
      "cell_type": "markdown",
      "source": [
        "### Data Preparation"
      ],
      "metadata": {
        "id": "3IhLzShAS2mf"
      }
    },
    {
      "cell_type": "code",
      "source": [
        "# data preparation\n",
        "train_dir = '/content/emotional dataset/Training/Training'\n",
        "test_dir = '/content/emotional dataset/Testing/Testing'\n",
        "\n",
        "train_angry_dir = '/content/emotional dataset/Training/Training/Angry'\n",
        "train_fear_dir = '/content/emotional dataset/Training/Training/Fear'\n",
        "train_happy_dir = '/content/emotional dataset/Training/Training/Happy'\n",
        "train_neutral_dir = '/content/emotional dataset/Training/Training/Neutral'\n",
        "train_sad_dir = '/content/emotional dataset/Training/Training/Sad'\n",
        "train_surprise_dir = '/content/emotional dataset/Training/Training/Suprise'\n",
        "\n",
        "test_angry_dir = '/content/emotional dataset/Testing/Testing/Angry'\n",
        "test_fear_dir = '/content/emotional dataset/Testing/Testing/Fear'\n",
        "test_happy_dir = '/content/emotional dataset/Testing/Testing/Happy'\n",
        "test_neural_dir = '/content/emotional dataset/Testing/Testing/Neutral'\n",
        "test_sad_dir = '/content/emotional dataset/Testing/Testing/Sad'\n",
        "test_surprise_dir = '/content/emotional dataset/Testing/Testing/Suprise'\n",
        "\n",
        "dir_list = [train_angry_dir, train_fear_dir, train_happy_dir,\n",
        "           train_neutral_dir, train_sad_dir, train_surprise_dir,\n",
        "           test_angry_dir, test_fear_dir, test_happy_dir,\n",
        "           test_neural_dir, test_sad_dir, test_surprise_dir]\n",
        "\n",
        "for d in dir_list:\n",
        "    print(d, len(os.listdir(d)))\n"
      ],
      "metadata": {
        "colab": {
          "base_uri": "https://localhost:8080/"
        },
        "id": "Xkt4CtTI-sWD",
        "outputId": "0b511f59-c02d-40fb-d716-586cff28dbb8"
      },
      "execution_count": null,
      "outputs": [
        {
          "output_type": "stream",
          "name": "stdout",
          "text": [
            "/content/emotional dataset/Training/Training/Angry 3995\n",
            "/content/emotional dataset/Training/Training/Fear 4097\n",
            "/content/emotional dataset/Training/Training/Happy 7215\n",
            "/content/emotional dataset/Training/Training/Neutral 4965\n",
            "/content/emotional dataset/Training/Training/Sad 4830\n",
            "/content/emotional dataset/Training/Training/Suprise 3171\n",
            "/content/emotional dataset/Testing/Testing/Angry 958\n",
            "/content/emotional dataset/Testing/Testing/Fear 1024\n",
            "/content/emotional dataset/Testing/Testing/Happy 1774\n",
            "/content/emotional dataset/Testing/Testing/Neutral 1233\n",
            "/content/emotional dataset/Testing/Testing/Sad 1247\n",
            "/content/emotional dataset/Testing/Testing/Suprise 831\n"
          ]
        }
      ]
    },
    {
      "cell_type": "code",
      "source": [
        "# image generator\n",
        "\n",
        "train_datagen = ImageDataGenerator(rescale=1.0/255.0,\n",
        "                                  rotation_range=40,\n",
        "                                  width_shift_range=0.2,\n",
        "                                  height_shift_range=0.2,\n",
        "                                  zoom_range=0.2,\n",
        "                                  horizontal_flip=True,\n",
        "                                  fill_mode='nearest')\n",
        "\n",
        "train_generator = train_datagen.flow_from_directory(train_dir,\n",
        "                                                   target_size=(150,150),\n",
        "                                                   batch_size=64,\n",
        "                                                   class_mode='categorical')\n",
        "\n",
        "validation_datagen = ImageDataGenerator(rescale=1.0/255.0)\n",
        "\n",
        "validation_generator = validation_datagen.flow_from_directory(test_dir,\n",
        "                                                             target_size=(150,150),\n",
        "                                                             batch_size=62,\n",
        "                                                             class_mode='categorical')"
      ],
      "metadata": {
        "colab": {
          "base_uri": "https://localhost:8080/"
        },
        "id": "M2UDHgvbALM0",
        "outputId": "797eb3f5-4b94-41c8-ad0c-3a7041981832"
      },
      "execution_count": null,
      "outputs": [
        {
          "output_type": "stream",
          "name": "stdout",
          "text": [
            "Found 28273 images belonging to 6 classes.\n",
            "Found 7067 images belonging to 6 classes.\n"
          ]
        }
      ]
    },
    {
      "cell_type": "code",
      "source": [
        "# callback function\n",
        "early_stopping_cb = keras.callbacks.EarlyStopping(patience=5,\n",
        "                                                 restore_best_weights=True)"
      ],
      "metadata": {
        "id": "K9SrLVKDm24M"
      },
      "execution_count": null,
      "outputs": []
    },
    {
      "cell_type": "markdown",
      "source": [
        "### Models"
      ],
      "metadata": {
        "id": "FmvAr1QdTDED"
      }
    },
    {
      "cell_type": "markdown",
      "source": [
        "#### model = RMS optimizer, Relu Activation"
      ],
      "metadata": {
        "id": "wABDSOcPQ5w6"
      }
    },
    {
      "cell_type": "code",
      "source": [
        "# build the model = RMS Optimizer, Relu Activation\n",
        "\n",
        "model = tf.keras.models.Sequential([\n",
        "    # Note the input shape is the desired size of the image 150x150 with 3 bytes color\n",
        "    tf.keras.layers.Conv2D(16, (3,3), activation='relu', input_shape=(150, 150, 3)),\n",
        "    tf.keras.layers.MaxPooling2D(2,2),\n",
        "    tf.keras.layers.Conv2D(32, (3,3), activation='relu'),\n",
        "    tf.keras.layers.MaxPooling2D(2,2), \n",
        "    tf.keras.layers.Conv2D(64, (3,3), activation='relu'), \n",
        "    tf.keras.layers.MaxPooling2D(2,2),\n",
        "    tf.keras.layers.Conv2D(64, (3,3), activation='relu'), \n",
        "    tf.keras.layers.MaxPooling2D(2,2),\n",
        "    # Flatten the results to feed into a DNN\n",
        "    tf.keras.layers.Flatten(), \n",
        "    # 512 neuron hidden layer\n",
        "    tf.keras.layers.Dense(512, activation='relu'), \n",
        "    tf.keras.layers.Dense(6, activation='softmax')  \n",
        "])\n",
        "\n",
        "from tensorflow.keras.optimizers import RMSprop\n",
        "\n",
        "model.compile(optimizer=RMSprop(learning_rate=0.001),\n",
        "              loss='categorical_crossentropy',\n",
        "              metrics = ['accuracy'])\n",
        "model.summary()\n"
      ],
      "metadata": {
        "colab": {
          "base_uri": "https://localhost:8080/"
        },
        "id": "q1XDMWPpAec7",
        "outputId": "4011ea66-5639-4118-90e4-26d27c25422b"
      },
      "execution_count": null,
      "outputs": [
        {
          "output_type": "stream",
          "name": "stdout",
          "text": [
            "Model: \"sequential\"\n",
            "_________________________________________________________________\n",
            " Layer (type)                Output Shape              Param #   \n",
            "=================================================================\n",
            " conv2d (Conv2D)             (None, 148, 148, 16)      448       \n",
            "                                                                 \n",
            " max_pooling2d (MaxPooling2D  (None, 74, 74, 16)       0         \n",
            " )                                                               \n",
            "                                                                 \n",
            " conv2d_1 (Conv2D)           (None, 72, 72, 32)        4640      \n",
            "                                                                 \n",
            " max_pooling2d_1 (MaxPooling  (None, 36, 36, 32)       0         \n",
            " 2D)                                                             \n",
            "                                                                 \n",
            " conv2d_2 (Conv2D)           (None, 34, 34, 64)        18496     \n",
            "                                                                 \n",
            " max_pooling2d_2 (MaxPooling  (None, 17, 17, 64)       0         \n",
            " 2D)                                                             \n",
            "                                                                 \n",
            " conv2d_3 (Conv2D)           (None, 15, 15, 64)        36928     \n",
            "                                                                 \n",
            " max_pooling2d_3 (MaxPooling  (None, 7, 7, 64)         0         \n",
            " 2D)                                                             \n",
            "                                                                 \n",
            " flatten (Flatten)           (None, 3136)              0         \n",
            "                                                                 \n",
            " dense (Dense)               (None, 512)               1606144   \n",
            "                                                                 \n",
            " dense_1 (Dense)             (None, 6)                 3078      \n",
            "                                                                 \n",
            "=================================================================\n",
            "Total params: 1,669,734\n",
            "Trainable params: 1,669,734\n",
            "Non-trainable params: 0\n",
            "_________________________________________________________________\n"
          ]
        }
      ]
    },
    {
      "cell_type": "code",
      "source": [
        "# Fit the model\n",
        "history = model.fit(train_generator,\n",
        "                   epochs=5,\n",
        "                   verbose=1,\n",
        "                   validation_data=validation_generator,\n",
        "                   callbacks=early_stopping_cb)\n"
      ],
      "metadata": {
        "id": "-b0QUqnxnZDC",
        "colab": {
          "base_uri": "https://localhost:8080/"
        },
        "outputId": "ec22d86d-54f2-456b-e4de-2a4c89a59569"
      },
      "execution_count": null,
      "outputs": [
        {
          "output_type": "stream",
          "name": "stdout",
          "text": [
            "Epoch 1/5\n",
            "442/442 [==============================] - 138s 312ms/step - loss: 1.5166 - accuracy: 0.3930 - val_loss: 1.3864 - val_accuracy: 0.4566\n",
            "Epoch 2/5\n",
            "442/442 [==============================] - 143s 324ms/step - loss: 1.4767 - accuracy: 0.4083 - val_loss: 1.3296 - val_accuracy: 0.4776\n",
            "Epoch 3/5\n",
            "442/442 [==============================] - 149s 336ms/step - loss: 1.4391 - accuracy: 0.4248 - val_loss: 1.3032 - val_accuracy: 0.4936\n",
            "Epoch 4/5\n",
            "442/442 [==============================] - 148s 335ms/step - loss: 1.4027 - accuracy: 0.4436 - val_loss: 1.2424 - val_accuracy: 0.5053\n",
            "Epoch 5/5\n",
            "442/442 [==============================] - 146s 330ms/step - loss: 1.3805 - accuracy: 0.4557 - val_loss: 1.2472 - val_accuracy: 0.5166\n"
          ]
        }
      ]
    },
    {
      "cell_type": "code",
      "source": [
        "# Evaluate the model loss and accuracy metrics using the evaluate_generator method and the test generator\n",
        "test_loss, test_acc = model.evaluate(validation_generator, verbose=2)\n",
        "\n",
        "# Display the model's loss and accuracy results\n",
        "print(f\"Model Loss: {test_loss}, Model Accuracy: {test_acc}\")\n"
      ],
      "metadata": {
        "colab": {
          "base_uri": "https://localhost:8080/"
        },
        "id": "ibAXWSJqx7SK",
        "outputId": "746b0163-fc1b-4915-82ef-9bcfb5eed637"
      },
      "execution_count": null,
      "outputs": [
        {
          "output_type": "stream",
          "name": "stdout",
          "text": [
            "114/114 - 5s - loss: 1.2472 - accuracy: 0.5166 - 5s/epoch - 42ms/step\n",
            "Model Loss: 1.2471790313720703, Model Accuracy: 0.5166265964508057\n"
          ]
        }
      ]
    },
    {
      "cell_type": "markdown",
      "source": [
        "##### Accuracy/Plot Graph"
      ],
      "metadata": {
        "id": "youIMe2hpsWH"
      }
    },
    {
      "cell_type": "code",
      "source": [
        "# Plot the loss function for the model\n",
        "import matplotlib.pyplot as plt\n",
        "\n",
        "plt.plot(history.history['loss'], label='train')\n",
        "plt.plot(history.history['val_loss'], label='test')\n",
        "\n",
        "plt.title('Model loss')\n",
        "plt.ylabel('Loss')\n",
        "plt.xlabel('Epoch')\n",
        "plt.legend(['Train', 'Test'], loc='upper left')\n",
        "plt.show()"
      ],
      "metadata": {
        "id": "qVMUXGqX9pNL",
        "colab": {
          "base_uri": "https://localhost:8080/",
          "height": 295
        },
        "outputId": "462bcd01-8675-4c92-98de-a0369d8ef238"
      },
      "execution_count": null,
      "outputs": [
        {
          "output_type": "display_data",
          "data": {
            "text/plain": [
              "<Figure size 432x288 with 1 Axes>"
            ],
            "image/png": "[encoded data removed]"
          },
          "metadata": {
            "needs_background": "light"
          }
        }
      ]
    },
    {
      "cell_type": "code",
      "source": [
        "# Plot the accuracy function for the model\n",
        "import matplotlib.pyplot as plt\n",
        "\n",
        "plt.plot(history.history['accuracy'], label='train')\n",
        "plt.plot(history.history['val_loss'], label='test')\n",
        "\n",
        "plt.title('Model Accuracy')\n",
        "plt.ylabel('Accuracy')\n",
        "plt.xlabel('Epoch')\n",
        "plt.legend(['Train', 'Test'],\n",
        "            loc='upper left')\n",
        "plt.show()"
      ],
      "metadata": {
        "colab": {
          "base_uri": "https://localhost:8080/",
          "height": 295
        },
        "id": "Qka9z7RcnTJq",
        "outputId": "1aa5b609-59ca-43a3-d6cd-9df00bbf5866"
      },
      "execution_count": null,
      "outputs": [
        {
          "output_type": "display_data",
          "data": {
            "text/plain": [
              "<Figure size 432x288 with 1 Axes>"
            ],
            "image/png": "[encoded data removed]"
          },
          "metadata": {
            "needs_background": "light"
          }
        }
      ]
    },
    {
      "cell_type": "markdown",
      "source": [
        "#### model_adam = ADAM optimizer, Relu **Activation** "
      ],
      "metadata": {
        "id": "BoiT3ilm72Hf"
      }
    },
    {
      "cell_type": "code",
      "source": [
        "# Build model_adam = ADAM optimizer, Relu Activation function\n",
        "\n",
        "model_adam = tf.keras.models.Sequential([\n",
        "    # Note the input shape is the desired size of the image 150x150 with 3 bytes color\n",
        "    tf.keras.layers.Conv2D(16, (3,3), activation='relu', input_shape=(150, 150, 3)),\n",
        "    tf.keras.layers.MaxPooling2D(2,2),\n",
        "    tf.keras.layers.Conv2D(32, (3,3), activation='relu'),\n",
        "    tf.keras.layers.MaxPooling2D(2,2),\n",
        "    tf.keras.layers.Conv2D(64, (3,3), activation='relu'),\n",
        "    tf.keras.layers.MaxPooling2D(2,2),\n",
        "    tf.keras.layers.Conv2D(64, (3,3), activation='relu'),\n",
        "    tf.keras.layers.MaxPooling2D(2,2),\n",
        "    # Flatten the results to feed into a DNN\n",
        "    tf.keras.layers.Flatten(),\n",
        "    # 512 neuron hidden layer\n",
        "    tf.keras.layers.Dense(512, activation='relu'),\n",
        "    tf.keras.layers.Dense(6, activation='softmax')\n",
        "])\n",
        "\n",
        "from tensorflow.keras.optimizers import Adam\n",
        "\n",
        "# Compile the model\n",
        "model_adam.compile(optimizer='adam', loss='categorical_crossentropy', metrics=['accuracy'])\n",
        "model_adam.summary()\n",
        "\n",
        "\n",
        "    "
      ],
      "metadata": {
        "colab": {
          "base_uri": "https://localhost:8080/"
        },
        "id": "mV4hSeKq76XQ",
        "outputId": "1619ad7b-0765-4d36-d705-265547d39126"
      },
      "execution_count": null,
      "outputs": [
        {
          "output_type": "stream",
          "name": "stdout",
          "text": [
            "Model: \"sequential_2\"\n",
            "_________________________________________________________________\n",
            " Layer (type)                Output Shape              Param #   \n",
            "=================================================================\n",
            " conv2d_8 (Conv2D)           (None, 148, 148, 16)      448       \n",
            "                                                                 \n",
            " max_pooling2d_8 (MaxPooling  (None, 74, 74, 16)       0         \n",
            " 2D)                                                             \n",
            "                                                                 \n",
            " conv2d_9 (Conv2D)           (None, 72, 72, 32)        4640      \n",
            "                                                                 \n",
            " max_pooling2d_9 (MaxPooling  (None, 36, 36, 32)       0         \n",
            " 2D)                                                             \n",
            "                                                                 \n",
            " conv2d_10 (Conv2D)          (None, 34, 34, 64)        18496     \n",
            "                                                                 \n",
            " max_pooling2d_10 (MaxPoolin  (None, 17, 17, 64)       0         \n",
            " g2D)                                                            \n",
            "                                                                 \n",
            " conv2d_11 (Conv2D)          (None, 15, 15, 64)        36928     \n",
            "                                                                 \n",
            " max_pooling2d_11 (MaxPoolin  (None, 7, 7, 64)         0         \n",
            " g2D)                                                            \n",
            "                                                                 \n",
            " flatten_2 (Flatten)         (None, 3136)              0         \n",
            "                                                                 \n",
            " dense_4 (Dense)             (None, 512)               1606144   \n",
            "                                                                 \n",
            " dense_5 (Dense)             (None, 6)                 3078      \n",
            "                                                                 \n",
            "=================================================================\n",
            "Total params: 1,669,734\n",
            "Trainable params: 1,669,734\n",
            "Non-trainable params: 0\n",
            "_________________________________________________________________\n"
          ]
        }
      ]
    },
    {
      "cell_type": "code",
      "source": [
        "# Fit the model \n",
        "history = model.fit(train_generator,\n",
        "                   epochs=5,\n",
        "                   verbose=1,\n",
        "                   validation_data=validation_generator,\n",
        "                   callbacks=early_stopping_cb)\n"
      ],
      "metadata": {
        "colab": {
          "base_uri": "https://localhost:8080/"
        },
        "id": "Jyin21-183o5",
        "outputId": "9b4296ed-6d8e-4e18-99ab-0f895dde23cd"
      },
      "execution_count": null,
      "outputs": [
        {
          "output_type": "stream",
          "name": "stdout",
          "text": [
            "Epoch 1/5\n",
            "442/442 [==============================] - 148s 334ms/step - loss: 1.3580 - accuracy: 0.4651 - val_loss: 1.2415 - val_accuracy: 0.5134\n",
            "Epoch 2/5\n",
            "442/442 [==============================] - 146s 331ms/step - loss: 1.3440 - accuracy: 0.4736 - val_loss: 1.2017 - val_accuracy: 0.5350\n",
            "Epoch 3/5\n",
            "442/442 [==============================] - 148s 334ms/step - loss: 1.3295 - accuracy: 0.4772 - val_loss: 1.2802 - val_accuracy: 0.5047\n",
            "Epoch 4/5\n",
            "442/442 [==============================] - 138s 313ms/step - loss: 1.3115 - accuracy: 0.4791 - val_loss: 1.1877 - val_accuracy: 0.5446\n",
            "Epoch 5/5\n",
            "442/442 [==============================] - 137s 311ms/step - loss: 1.3041 - accuracy: 0.4868 - val_loss: 1.2045 - val_accuracy: 0.5360\n"
          ]
        }
      ]
    },
    {
      "cell_type": "code",
      "source": [
        "# Evaluate the model_adam loss and accuracy metrics using the evaluate_generator method and the test generator\n",
        "test_loss, test_acc = model_adam.evaluate(validation_generator, verbose=2)\n",
        "\n",
        "# Display the model's loss and accuracy results\n",
        "print(f\"Model_Adam Loss: {test_loss}, Model_Adam Accuracy: {test_acc}\")\n"
      ],
      "metadata": {
        "colab": {
          "base_uri": "https://localhost:8080/"
        },
        "id": "Pyw779zq83mo",
        "outputId": "9848a82f-30f6-4111-a8ac-4f6749ad228d"
      },
      "execution_count": null,
      "outputs": [
        {
          "output_type": "stream",
          "name": "stdout",
          "text": [
            "114/114 - 4s - loss: 1.7921 - accuracy: 0.1558 - 4s/epoch - 37ms/step\n",
            "Model_Adam Loss: 1.7920674085617065, Model_Adam Accuracy: 0.15579453110694885\n"
          ]
        }
      ]
    },
    {
      "cell_type": "markdown",
      "source": [
        "##### Accuracy/Plot Graph"
      ],
      "metadata": {
        "id": "0z08tpDpp9VY"
      }
    },
    {
      "cell_type": "code",
      "source": [
        "# Plot the loss function for the model\n",
        "import matplotlib.pyplot as plt\n",
        "\n",
        "plt.plot(history.history['loss'], label='train')\n",
        "plt.plot(history.history['val_loss'], label='test')\n",
        "\n",
        "plt.title('Model loss')\n",
        "plt.ylabel('Loss')\n",
        "plt.xlabel('Epoch')\n",
        "plt.legend(['Train', 'Test'], loc='upper left')\n",
        "plt.show()"
      ],
      "metadata": {
        "id": "coYexsKa83jg",
        "colab": {
          "base_uri": "https://localhost:8080/",
          "height": 295
        },
        "outputId": "dffd8a13-984d-452c-8fc2-ea900dd9e35a"
      },
      "execution_count": null,
      "outputs": [
        {
          "output_type": "display_data",
          "data": {
            "text/plain": [
              "<Figure size 432x288 with 1 Axes>"
            ],
            "image/png": "[encoded data removed]"
          },
          "metadata": {
            "needs_background": "light"
          }
        }
      ]
    },
    {
      "cell_type": "code",
      "source": [
        "# Plot the accuracy function for the model\n",
        "import matplotlib.pyplot as plt\n",
        "\n",
        "plt.plot(history.history['accuracy'], label='train')\n",
        "plt.plot(history.history['val_loss'], label='test')\n",
        "\n",
        "plt.title('Model Accuracy')\n",
        "plt.ylabel('Accuracy')\n",
        "plt.xlabel('Epoch')\n",
        "plt.legend(['Train', 'Test'],\n",
        "            loc='upper left')\n",
        "plt.show()"
      ],
      "metadata": {
        "colab": {
          "base_uri": "https://localhost:8080/",
          "height": 295
        },
        "id": "7wAAm5WGqt75",
        "outputId": "eb8d47a6-1487-46d4-ffa8-ac3b09962c37"
      },
      "execution_count": null,
      "outputs": [
        {
          "output_type": "display_data",
          "data": {
            "text/plain": [
              "<Figure size 432x288 with 1 Axes>"
            ],
            "image/png": "[encoded data removed]"
          },
          "metadata": {
            "needs_background": "light"
          }
        }
      ]
    },
    {
      "cell_type": "markdown",
      "source": [
        "#### model_swish = RMS Optimizer, Swish **Activation** \n"
      ],
      "metadata": {
        "id": "n6ZNWknj9xgN"
      }
    },
    {
      "cell_type": "code",
      "source": [
        "# Build model_swish = RMS Optimizer, Swish Activation\n",
        "\n",
        "model_swish = tf.keras.models.Sequential([\n",
        "    # Note the input shape is the desired size of the image 150x150 with 3 bytes color\n",
        "    tf.keras.layers.Conv2D(16, (3,3), activation='swish', input_shape=(150, 150, 3)),\n",
        "    tf.keras.layers.MaxPooling2D(2,2),\n",
        "    tf.keras.layers.Conv2D(32, (3,3), activation='swish'),\n",
        "    tf.keras.layers.MaxPooling2D(2,2),\n",
        "    tf.keras.layers.Conv2D(64, (3,3), activation='swish'),\n",
        "    tf.keras.layers.MaxPooling2D(2,2),\n",
        "    tf.keras.layers.Conv2D(64, (3,3), activation='swish'),\n",
        "    tf.keras.layers.MaxPooling2D(2,2),\n",
        "    # Flatten the results to feed into a DNN\n",
        "    tf.keras.layers.Flatten(),\n",
        "    # 512 neuron hidden layer\n",
        "    tf.keras.layers.Dense(512, activation='swish'),\n",
        "    tf.keras.layers.Dense(6, activation='softmax')\n",
        "])\n",
        "\n",
        "# compile the model_swish\n",
        "model_swish.compile(optimizer=RMSprop(learning_rate=0.001), loss='categorical_crossentropy', metrics = ['accuracy']) \n",
        "model_swish.summary()\n"
      ],
      "metadata": {
        "colab": {
          "base_uri": "https://localhost:8080/"
        },
        "id": "xGDqA5V283g_",
        "outputId": "9ae47313-174d-417d-b1ad-8676d9895394"
      },
      "execution_count": null,
      "outputs": [
        {
          "output_type": "stream",
          "name": "stdout",
          "text": [
            "Model: \"sequential_3\"\n",
            "_________________________________________________________________\n",
            " Layer (type)                Output Shape              Param #   \n",
            "=================================================================\n",
            " conv2d_12 (Conv2D)          (None, 148, 148, 16)      448       \n",
            "                                                                 \n",
            " max_pooling2d_12 (MaxPoolin  (None, 74, 74, 16)       0         \n",
            " g2D)                                                            \n",
            "                                                                 \n",
            " conv2d_13 (Conv2D)          (None, 72, 72, 32)        4640      \n",
            "                                                                 \n",
            " max_pooling2d_13 (MaxPoolin  (None, 36, 36, 32)       0         \n",
            " g2D)                                                            \n",
            "                                                                 \n",
            " conv2d_14 (Conv2D)          (None, 34, 34, 64)        18496     \n",
            "                                                                 \n",
            " max_pooling2d_14 (MaxPoolin  (None, 17, 17, 64)       0         \n",
            " g2D)                                                            \n",
            "                                                                 \n",
            " conv2d_15 (Conv2D)          (None, 15, 15, 64)        36928     \n",
            "                                                                 \n",
            " max_pooling2d_15 (MaxPoolin  (None, 7, 7, 64)         0         \n",
            " g2D)                                                            \n",
            "                                                                 \n",
            " flatten_3 (Flatten)         (None, 3136)              0         \n",
            "                                                                 \n",
            " dense_6 (Dense)             (None, 512)               1606144   \n",
            "                                                                 \n",
            " dense_7 (Dense)             (None, 6)                 3078      \n",
            "                                                                 \n",
            "=================================================================\n",
            "Total params: 1,669,734\n",
            "Trainable params: 1,669,734\n",
            "Non-trainable params: 0\n",
            "_________________________________________________________________\n"
          ]
        }
      ]
    },
    {
      "cell_type": "code",
      "source": [
        "# Fit the model \n",
        "history = model.fit(train_generator,\n",
        "                   epochs=5,\n",
        "                   verbose=1,\n",
        "                   validation_data=validation_generator,\n",
        "                   callbacks=early_stopping_cb)\n"
      ],
      "metadata": {
        "colab": {
          "base_uri": "https://localhost:8080/"
        },
        "id": "818b04gd83dq",
        "outputId": "6613ad97-2e8a-444a-91e2-f32cb8514d95"
      },
      "execution_count": null,
      "outputs": [
        {
          "output_type": "stream",
          "name": "stdout",
          "text": [
            "Epoch 1/5\n",
            "442/442 [==============================] - 142s 321ms/step - loss: 1.2930 - accuracy: 0.4960 - val_loss: 1.1688 - val_accuracy: 0.5424\n",
            "Epoch 2/5\n",
            "442/442 [==============================] - 141s 320ms/step - loss: 1.2862 - accuracy: 0.4924 - val_loss: 1.2436 - val_accuracy: 0.5096\n",
            "Epoch 3/5\n",
            "442/442 [==============================] - 138s 312ms/step - loss: 1.2760 - accuracy: 0.4997 - val_loss: 1.1536 - val_accuracy: 0.5489\n",
            "Epoch 4/5\n",
            "442/442 [==============================] - 137s 311ms/step - loss: 1.2647 - accuracy: 0.5052 - val_loss: 1.1619 - val_accuracy: 0.5516\n",
            "Epoch 5/5\n",
            "442/442 [==============================] - 137s 310ms/step - loss: 1.2605 - accuracy: 0.5077 - val_loss: 1.1649 - val_accuracy: 0.5500\n"
          ]
        }
      ]
    },
    {
      "cell_type": "code",
      "source": [
        "# Evaluate the model loss and accuracy metrics using the evaluate_generator method and the test generator\n",
        "test_loss, test_acc = model.evaluate(validation_generator, verbose=2)\n",
        "\n",
        "# Display the model's loss and accuracy results\n",
        "print(f\"Model_swish Loss: {test_loss}, Model_swish Accuracy: {test_acc}\")\n"
      ],
      "metadata": {
        "colab": {
          "base_uri": "https://localhost:8080/"
        },
        "id": "j15n4Iew83bZ",
        "outputId": "0cf7c5d1-056e-492d-e6ff-74eb5dd38b48"
      },
      "execution_count": null,
      "outputs": [
        {
          "output_type": "stream",
          "name": "stdout",
          "text": [
            "114/114 - 4s - loss: 1.1649 - accuracy: 0.5500 - 4s/epoch - 37ms/step\n",
            "Model_swish Loss: 1.1649253368377686, Model_swish Accuracy: 0.550021231174469\n"
          ]
        }
      ]
    },
    {
      "cell_type": "markdown",
      "source": [
        "##### Accuracy/Plot Graph"
      ],
      "metadata": {
        "id": "YC16pltZqDHG"
      }
    },
    {
      "cell_type": "code",
      "source": [
        "# Plot the loss function for the model\n",
        "import matplotlib.pyplot as plt\n",
        "\n",
        "plt.plot(history.history['loss'], label='train')\n",
        "plt.plot(history.history['val_loss'], label='test')\n",
        "\n",
        "plt.title('Model loss')\n",
        "plt.ylabel('Loss')\n",
        "plt.xlabel('Epoch')\n",
        "plt.legend(['Train', 'Test'], loc='upper left')\n",
        "plt.show()"
      ],
      "metadata": {
        "colab": {
          "base_uri": "https://localhost:8080/",
          "height": 295
        },
        "id": "O2Ip104toJBm",
        "outputId": "84000192-cfd8-4c0e-dc11-ada9806d8f91"
      },
      "execution_count": null,
      "outputs": [
        {
          "output_type": "display_data",
          "data": {
            "text/plain": [
              "<Figure size 432x288 with 1 Axes>"
            ],
            "image/png": "[encoded data removed]"
          },
          "metadata": {
            "needs_background": "light"
          }
        }
      ]
    },
    {
      "cell_type": "code",
      "source": [
        "# Plot the accuracy function for the model\n",
        "import matplotlib.pyplot as plt\n",
        "\n",
        "plt.plot(history.history['accuracy'], label='train')\n",
        "plt.plot(history.history['val_loss'], label='test')\n",
        "\n",
        "plt.title('Model Accuracy')\n",
        "plt.ylabel('Accuracy')\n",
        "plt.xlabel('Epoch')\n",
        "plt.legend(['Train', 'Test'],\n",
        "            loc='upper left')\n",
        "plt.show()"
      ],
      "metadata": {
        "colab": {
          "base_uri": "https://localhost:8080/",
          "height": 295
        },
        "id": "EKNIZATZoIvr",
        "outputId": "cec01d04-cc6b-472c-b74c-9ed0374ceef8"
      },
      "execution_count": null,
      "outputs": [
        {
          "output_type": "display_data",
          "data": {
            "text/plain": [
              "<Figure size 432x288 with 1 Axes>"
            ],
            "image/png": "[encoded data removed]"
          },
          "metadata": {
            "needs_background": "light"
          }
        }
      ]
    },
    {
      "cell_type": "markdown",
      "source": [
        "#### model_adam_swish = ADAM optimizer, Swish Activation"
      ],
      "metadata": {
        "id": "YXNyq1AXSibE"
      }
    },
    {
      "cell_type": "code",
      "source": [
        "# Build model_adam_swish = ADAM Optimizer, Swish Activation\n",
        "\n",
        "model_adam_swish = tf.keras.models.Sequential([\n",
        "    # Note the input shape is the desired size of the image 150x150 with 3 bytes color\n",
        "    tf.keras.layers.Conv2D(16, (3,3), activation='swish', input_shape=(150, 150, 3)),\n",
        "    tf.keras.layers.MaxPooling2D(2,2),\n",
        "    tf.keras.layers.Conv2D(32, (3,3), activation='swish'),\n",
        "    tf.keras.layers.MaxPooling2D(2,2),\n",
        "    tf.keras.layers.Conv2D(64, (3,3), activation='swish'),\n",
        "    tf.keras.layers.MaxPooling2D(2,2),\n",
        "    tf.keras.layers.Conv2D(64, (3,3), activation='swish'),\n",
        "    tf.keras.layers.MaxPooling2D(2,2),\n",
        "    # Flatten the results to feed into a DNN\n",
        "    tf.keras.layers.Flatten(),\n",
        "    # 512 neuron hidden layer\n",
        "    tf.keras.layers.Dense(512, activation='swish'),\n",
        "    tf.keras.layers.Dense(6, activation='softmax')\n",
        "])\n",
        "\n",
        "model_adam_swish.compile(optimizer=Adam(learning_rate=0.001),\n",
        "                loss='categorical_crossentropy',\n",
        "                metrics = ['accuracy'])\n",
        "model_adam_swish.summary()\n",
        "# keras.utils.plot_model(model_adam_swish)\n",
        "\n"
      ],
      "metadata": {
        "colab": {
          "base_uri": "https://localhost:8080/"
        },
        "id": "PT9xJ9xe83Xo",
        "outputId": "1970cfb4-9e0a-455a-8177-7597b4f5054c"
      },
      "execution_count": null,
      "outputs": [
        {
          "output_type": "stream",
          "name": "stdout",
          "text": [
            "Model: \"sequential_4\"\n",
            "_________________________________________________________________\n",
            " Layer (type)                Output Shape              Param #   \n",
            "=================================================================\n",
            " conv2d_16 (Conv2D)          (None, 148, 148, 16)      448       \n",
            "                                                                 \n",
            " max_pooling2d_16 (MaxPoolin  (None, 74, 74, 16)       0         \n",
            " g2D)                                                            \n",
            "                                                                 \n",
            " conv2d_17 (Conv2D)          (None, 72, 72, 32)        4640      \n",
            "                                                                 \n",
            " max_pooling2d_17 (MaxPoolin  (None, 36, 36, 32)       0         \n",
            " g2D)                                                            \n",
            "                                                                 \n",
            " conv2d_18 (Conv2D)          (None, 34, 34, 64)        18496     \n",
            "                                                                 \n",
            " max_pooling2d_18 (MaxPoolin  (None, 17, 17, 64)       0         \n",
            " g2D)                                                            \n",
            "                                                                 \n",
            " conv2d_19 (Conv2D)          (None, 15, 15, 64)        36928     \n",
            "                                                                 \n",
            " max_pooling2d_19 (MaxPoolin  (None, 7, 7, 64)         0         \n",
            " g2D)                                                            \n",
            "                                                                 \n",
            " flatten_4 (Flatten)         (None, 3136)              0         \n",
            "                                                                 \n",
            " dense_8 (Dense)             (None, 512)               1606144   \n",
            "                                                                 \n",
            " dense_9 (Dense)             (None, 6)                 3078      \n",
            "                                                                 \n",
            "=================================================================\n",
            "Total params: 1,669,734\n",
            "Trainable params: 1,669,734\n",
            "Non-trainable params: 0\n",
            "_________________________________________________________________\n"
          ]
        }
      ]
    },
    {
      "cell_type": "code",
      "source": [
        "# Fit the model \n",
        "history = model.fit(train_generator,\n",
        "                   epochs=5,\n",
        "                   verbose=1,\n",
        "                   validation_data=validation_generator,\n",
        "                   callbacks=early_stopping_cb)\n"
      ],
      "metadata": {
        "colab": {
          "base_uri": "https://localhost:8080/"
        },
        "id": "oLzHrWVF83Tp",
        "outputId": "610e3c0f-c813-49dd-8b18-2b0cdb311629"
      },
      "execution_count": null,
      "outputs": [
        {
          "output_type": "stream",
          "name": "stdout",
          "text": [
            "Epoch 1/5\n",
            "442/442 [==============================] - 137s 310ms/step - loss: 1.2604 - accuracy: 0.5089 - val_loss: 1.1495 - val_accuracy: 0.5487\n",
            "Epoch 2/5\n",
            "442/442 [==============================] - 137s 310ms/step - loss: 1.2490 - accuracy: 0.5126 - val_loss: 1.1893 - val_accuracy: 0.5441\n",
            "Epoch 3/5\n",
            "442/442 [==============================] - 137s 310ms/step - loss: 1.2568 - accuracy: 0.5111 - val_loss: 1.1800 - val_accuracy: 0.5435\n",
            "Epoch 4/5\n",
            "442/442 [==============================] - 137s 311ms/step - loss: 1.2460 - accuracy: 0.5154 - val_loss: 1.1653 - val_accuracy: 0.5422\n",
            "Epoch 5/5\n",
            "442/442 [==============================] - 137s 309ms/step - loss: 1.2413 - accuracy: 0.5210 - val_loss: 1.1808 - val_accuracy: 0.5424\n"
          ]
        }
      ]
    },
    {
      "cell_type": "code",
      "source": [
        "# Evaluate the model loss and accuracy metrics using the evaluate_generator method and the test generator\n",
        "test_loss, test_acc = model.evaluate(validation_generator, verbose=2)\n",
        "\n",
        "print(f\"Model_adam_swish Loss: {test_loss}, Model_adam_swish Accuracy: {test_acc}\")\n",
        "\n"
      ],
      "metadata": {
        "colab": {
          "base_uri": "https://localhost:8080/"
        },
        "id": "TDKPez62Ab34",
        "outputId": "fe2e0240-0821-47fe-8195-a2edc983505e"
      },
      "execution_count": null,
      "outputs": [
        {
          "output_type": "stream",
          "name": "stdout",
          "text": [
            "114/114 - 4s - loss: 1.1808 - accuracy: 0.5424 - 4s/epoch - 37ms/step\n",
            "Model_adam_swish Loss: 1.1808154582977295, Model_adam_swish Accuracy: 0.5423800945281982\n"
          ]
        }
      ]
    },
    {
      "cell_type": "markdown",
      "source": [
        "##### Accuracy/Plot Graph"
      ],
      "metadata": {
        "id": "vVE_1LMkqFvv"
      }
    },
    {
      "cell_type": "code",
      "source": [
        "# Plot the loss function for the model\n",
        "import matplotlib.pyplot as plt\n",
        "\n",
        "plt.plot(history.history['loss'], label='train')\n",
        "plt.plot(history.history['val_loss'], label='test')\n",
        "\n",
        "plt.title('Model loss')\n",
        "plt.ylabel('Loss')\n",
        "plt.xlabel('Epoch')\n",
        "plt.legend(['Train', 'Test'], loc='upper left')\n",
        "plt.show()"
      ],
      "metadata": {
        "id": "xhs35HpkAb0w",
        "colab": {
          "base_uri": "https://localhost:8080/",
          "height": 295
        },
        "outputId": "ef6e143b-68ee-49a4-9dd2-be475235c12d"
      },
      "execution_count": null,
      "outputs": [
        {
          "output_type": "display_data",
          "data": {
            "text/plain": [
              "<Figure size 432x288 with 1 Axes>"
            ],
            "image/png": "[encoded data removed]"
          },
          "metadata": {
            "needs_background": "light"
          }
        }
      ]
    },
    {
      "cell_type": "code",
      "source": [
        "# Plot the accuracy function for the model\n",
        "import matplotlib.pyplot as plt\n",
        "\n",
        "plt.plot(history.history['accuracy'], label='train')\n",
        "plt.plot(history.history['val_loss'], label='test')\n",
        "\n",
        "plt.title('Model Accuracy')\n",
        "plt.ylabel('Accuracy')\n",
        "plt.xlabel('Epoch')\n",
        "plt.legend(['Train', 'Test'],\n",
        "            loc='upper left')\n",
        "plt.show()"
      ],
      "metadata": {
        "colab": {
          "base_uri": "https://localhost:8080/",
          "height": 295
        },
        "id": "fpd9s_-ZoMtH",
        "outputId": "3053e017-9153-41b1-8959-149e44aec34e"
      },
      "execution_count": null,
      "outputs": [
        {
          "output_type": "display_data",
          "data": {
            "text/plain": [
              "<Figure size 432x288 with 1 Axes>"
            ],
            "image/png": "[encoded data removed]"
          },
          "metadata": {
            "needs_background": "light"
          }
        }
      ]
    },
    {
      "cell_type": "markdown",
      "source": [
        "#### model_cnn = Convolutional Neural Network"
      ],
      "metadata": {
        "id": "mwhIURkPChVv"
      }
    },
    {
      "cell_type": "code",
      "source": [
        "# Set the CNN model_CNN \n",
        "# my CNN architechture is In -> [[Conv2D->relu]*2 -> MaxPool2D -> Dropout]*2 -> Flatten -> Dense -> Dropout -> Out\n",
        "\n",
        "import tensorflow as tf\n",
        "\n",
        "model_CNN = tf.keras.models.Sequential([\n",
        "tf.keras.layers.Conv2D(16, (3,3), activation ='relu', input_shape = (150,150,3)),\n",
        "tf.keras.layers.MaxPool2D(pool_size=(2,2)),\n",
        "tf.keras.layers.Dropout(0.25),\n",
        "tf.keras.layers.Conv2D(16, (3,3), activation ='relu', input_shape = (150,150,3)),\n",
        "tf.keras.layers.Conv2D(16, (3,3), activation ='relu', input_shape = (150,150,3)),\n",
        "tf.keras.layers.MaxPool2D(pool_size=(2,2), strides=(2,2)),\n",
        "tf.keras.layers.Dropout(0.25),\n",
        "tf.keras.layers.Flatten(),\n",
        "tf.keras.layers.Dense(512, activation = \"swish\"),\n",
        "tf.keras.layers.Dropout(0.5),\n",
        "tf.keras.layers.Dense(10, activation = \"softmax\")\n",
        "])\n",
        "\n",
        "# Compile the model_CNN\n",
        "model_CNN.compile(optimizer= RMSprop(lr=0.001, rho=0.9, epsilon=1e-08, decay=0.0),\n",
        "                  loss = \"categorical_crossentropy\",\n",
        "                  metrics=[\"accuracy\"])\n",
        "\n",
        "model_CNN.summary()\n",
        "\n"
      ],
      "metadata": {
        "colab": {
          "base_uri": "https://localhost:8080/"
        },
        "id": "BUkwsyk9KP9b",
        "outputId": "c627752d-2181-443e-a982-40c9c3487b66"
      },
      "execution_count": null,
      "outputs": [
        {
          "output_type": "stream",
          "name": "stdout",
          "text": [
            "Model: \"sequential_11\"\n",
            "_________________________________________________________________\n",
            " Layer (type)                Output Shape              Param #   \n",
            "=================================================================\n",
            " conv2d_33 (Conv2D)          (None, 148, 148, 16)      448       \n",
            "                                                                 \n",
            " max_pooling2d_29 (MaxPoolin  (None, 74, 74, 16)       0         \n",
            " g2D)                                                            \n",
            "                                                                 \n",
            " dropout_13 (Dropout)        (None, 74, 74, 16)        0         \n",
            "                                                                 \n",
            " conv2d_34 (Conv2D)          (None, 72, 72, 16)        2320      \n",
            "                                                                 \n",
            " conv2d_35 (Conv2D)          (None, 70, 70, 16)        2320      \n",
            "                                                                 \n",
            " max_pooling2d_30 (MaxPoolin  (None, 35, 35, 16)       0         \n",
            " g2D)                                                            \n",
            "                                                                 \n",
            " dropout_14 (Dropout)        (None, 35, 35, 16)        0         \n",
            "                                                                 \n",
            " flatten_9 (Flatten)         (None, 19600)             0         \n",
            "                                                                 \n",
            " dense_18 (Dense)            (None, 512)               10035712  \n",
            "                                                                 \n",
            " dropout_15 (Dropout)        (None, 512)               0         \n",
            "                                                                 \n",
            " dense_19 (Dense)            (None, 10)                5130      \n",
            "                                                                 \n",
            "=================================================================\n",
            "Total params: 10,045,930\n",
            "Trainable params: 10,045,930\n",
            "Non-trainable params: 0\n",
            "_________________________________________________________________\n"
          ]
        }
      ]
    },
    {
      "cell_type": "code",
      "source": [
        "# Fit the model \n",
        "history = model.fit(train_generator,\n",
        "                   epochs=5,\n",
        "                   verbose=1,\n",
        "                   validation_data=validation_generator,\n",
        "                   callbacks=early_stopping_cb)"
      ],
      "metadata": {
        "id": "2_wyKiviAbrz",
        "colab": {
          "base_uri": "https://localhost:8080/"
        },
        "outputId": "92e61726-b745-47b7-9a07-8be95d673a7e"
      },
      "execution_count": null,
      "outputs": [
        {
          "output_type": "stream",
          "name": "stdout",
          "text": [
            "Epoch 1/5\n",
            "442/442 [==============================] - 152s 344ms/step - loss: 1.2260 - accuracy: 0.5248 - val_loss: 1.1500 - val_accuracy: 0.5571\n",
            "Epoch 2/5\n",
            "442/442 [==============================] - 140s 316ms/step - loss: 1.2295 - accuracy: 0.5235 - val_loss: 1.1630 - val_accuracy: 0.5476\n",
            "Epoch 3/5\n",
            "442/442 [==============================] - 141s 318ms/step - loss: 1.2274 - accuracy: 0.5250 - val_loss: 1.1500 - val_accuracy: 0.5592\n",
            "Epoch 4/5\n",
            "442/442 [==============================] - 140s 316ms/step - loss: 1.2281 - accuracy: 0.5226 - val_loss: 1.1761 - val_accuracy: 0.5421\n",
            "Epoch 5/5\n",
            "442/442 [==============================] - 139s 315ms/step - loss: 1.2288 - accuracy: 0.5199 - val_loss: 1.1758 - val_accuracy: 0.5465\n"
          ]
        }
      ]
    },
    {
      "cell_type": "code",
      "source": [
        "# Evaluate the model loss and accuracy metrics using the evaluate_generator method and the test generator\n",
        "test_loss, test_acc = model.evaluate(validation_generator, verbose=2)\n",
        "\n",
        "print(f\"Model_cnn Loss: {test_loss}, Model_cnn Accuracy: {test_acc}\")"
      ],
      "metadata": {
        "id": "tHYfYHF_Abor",
        "colab": {
          "base_uri": "https://localhost:8080/"
        },
        "outputId": "4c96e772-2cc3-42b0-c314-23538ee32e8a"
      },
      "execution_count": null,
      "outputs": [
        {
          "output_type": "stream",
          "name": "stdout",
          "text": [
            "114/114 - 4s - loss: 1.1758 - accuracy: 0.5465 - 4s/epoch - 39ms/step\n",
            "Model_cnn Loss: 1.1758086681365967, Model_cnn Accuracy: 0.5464836359024048\n"
          ]
        }
      ]
    },
    {
      "cell_type": "markdown",
      "source": [
        "##### Accuracy/Plot Graph"
      ],
      "metadata": {
        "id": "cUkLiQuyqMau"
      }
    },
    {
      "cell_type": "code",
      "source": [
        "# Plot the loss function for the model\n",
        "import matplotlib.pyplot as plt\n",
        "\n",
        "plt.plot(history.history['loss'], label='train')\n",
        "plt.plot(history.history['val_loss'], label='test')\n",
        "\n",
        "plt.title('Model loss')\n",
        "plt.ylabel('Loss')\n",
        "plt.xlabel('Epoch')\n",
        "plt.legend(['Train', 'Test'], loc='upper left')\n",
        "plt.show()"
      ],
      "metadata": {
        "colab": {
          "base_uri": "https://localhost:8080/",
          "height": 295
        },
        "id": "ICsBoMJIoPTA",
        "outputId": "59a2fb09-c366-4faa-d86d-064675e86051"
      },
      "execution_count": null,
      "outputs": [
        {
          "output_type": "display_data",
          "data": {
            "text/plain": [
              "<Figure size 432x288 with 1 Axes>"
            ],
            "image/png": "[encoded data removed]"
          },
          "metadata": {
            "needs_background": "light"
          }
        }
      ]
    },
    {
      "cell_type": "code",
      "source": [
        "# Plot the accuracy function for the model\n",
        "import matplotlib.pyplot as plt\n",
        "\n",
        "plt.plot(history.history['accuracy'], label='train')\n",
        "plt.plot(history.history['val_loss'], label='test')\n",
        "\n",
        "plt.title('Model Accuracy')\n",
        "plt.ylabel('Accuracy')\n",
        "plt.xlabel('Epoch')\n",
        "plt.legend(['Train', 'Test'],\n",
        "            loc='upper left')\n",
        "plt.show()"
      ],
      "metadata": {
        "colab": {
          "base_uri": "https://localhost:8080/",
          "height": 295
        },
        "id": "KSWMYDtyq2E7",
        "outputId": "8c1ed4e5-e7af-40cb-963f-a6c49e1ff6cb"
      },
      "execution_count": null,
      "outputs": [
        {
          "output_type": "display_data",
          "data": {
            "text/plain": [
              "<Figure size 432x288 with 1 Axes>"
            ],
            "image/png": "[encoded data removed]"
          },
          "metadata": {
            "needs_background": "light"
          }
        }
      ]
    },
    {
      "cell_type": "markdown",
      "source": [
        "### Confusion Matrix"
      ],
      "metadata": {
        "id": "Q7YYMThUx5yL"
      }
    },
    {
      "cell_type": "code",
      "source": [
        "# Confusion Matrix\n",
        "# model_adam\n",
        "\n",
        "from sklearn.metrics import confusion_matrix\n",
        "import seaborn as sns\n",
        "    \n",
        "y_pred = model_adam.predict(validation_generator)\n",
        "y_pred = np.argmax(y_pred, axis=1)\n",
        "print('Confusion Matrix')\n",
        "print(confusion_matrix(validation_generator.classes, y_pred))\n",
        "cm = confusion_matrix(validation_generator.classes, y_pred)\n",
        "plt.figure(figsize=(10,7))\n",
        "sns.heatmap(cm, annot=True)\n",
        "plt.xlabel('Predicted')\n",
        "plt.ylabel('Truth')\n",
        " "
      ],
      "metadata": {
        "colab": {
          "base_uri": "https://localhost:8080/",
          "height": 581
        },
        "id": "GTvx3hEgNKIT",
        "outputId": "0176f602-2be6-4e58-e8b7-e3342f190178"
      },
      "execution_count": null,
      "outputs": [
        {
          "output_type": "stream",
          "name": "stdout",
          "text": [
            "Confusion Matrix\n",
            "[[   0  306    0  652    0    0]\n",
            " [   0  349    0  675    0    0]\n",
            " [   0  593    0 1181    0    0]\n",
            " [   0  424    0  809    0    0]\n",
            " [   0  390    0  857    0    0]\n",
            " [   1  262    1  567    0    0]]\n"
          ]
        },
        {
          "output_type": "execute_result",
          "data": {
            "text/plain": [
              "Text(69.0, 0.5, 'Truth')"
            ]
          },
          "metadata": {},
          "execution_count": 71
        },
        {
          "output_type": "display_data",
          "data": {
            "text/plain": [
              "<Figure size 720x504 with 2 Axes>"
            ],
            "image/png": "[encoded data removed]"
          },
          "metadata": {
            "needs_background": "light"
          }
        }
      ]
    },
    {
      "cell_type": "code",
      "source": [
        "# Confusion Matrix\n",
        "# model\n",
        "from sklearn.metrics import confusion_matrix\n",
        "import seaborn as sns\n",
        "    \n",
        "y_pred = model.predict(validation_generator)\n",
        "y_pred = np.argmax(y_pred, axis=1)\n",
        "print('Confusion Matrix')\n",
        "print(confusion_matrix(validation_generator.classes, y_pred))\n",
        "cm = confusion_matrix(validation_generator.classes, y_pred)\n",
        "plt.figure(figsize=(10,7))\n",
        "sns.heatmap(cm, annot=True)\n",
        "plt.xlabel('Predicted')\n",
        "plt.ylabel('Truth')\n",
        " \n"
      ],
      "metadata": {
        "colab": {
          "base_uri": "https://localhost:8080/",
          "height": 581
        },
        "id": "MEm0rN0kNJxc",
        "outputId": "1a89a837-d640-401a-9049-92ca9ee68878"
      },
      "execution_count": null,
      "outputs": [
        {
          "output_type": "stream",
          "name": "stdout",
          "text": [
            "Confusion Matrix\n",
            "[[102  70 261 159 252 114]\n",
            " [ 88  98 296 188 246 108]\n",
            " [175 139 529 311 454 166]\n",
            " [112 100 334 208 356 123]\n",
            " [117 114 344 232 328 112]\n",
            " [ 69  67 232 151 239  73]]\n"
          ]
        },
        {
          "output_type": "execute_result",
          "data": {
            "text/plain": [
              "Text(69.0, 0.5, 'Truth')"
            ]
          },
          "metadata": {},
          "execution_count": 72
        },
        {
          "output_type": "display_data",
          "data": {
            "text/plain": [
              "<Figure size 720x504 with 2 Axes>"
            ],
            "image/png": "[encoded data removed]"
          },
          "metadata": {
            "needs_background": "light"
          }
        }
      ]
    },
    {
      "cell_type": "code",
      "source": [
        "# Confusion Matrix\n",
        "# model_swish\n",
        "\n",
        "from sklearn.metrics import confusion_matrix\n",
        "import seaborn as sns\n",
        "    \n",
        "y_pred = model_swish.predict(validation_generator)\n",
        "y_pred = np.argmax(y_pred, axis=1)\n",
        "print('Confusion Matrix')\n",
        "print(confusion_matrix(validation_generator.classes, y_pred))\n",
        "cm = confusion_matrix(validation_generator.classes, y_pred)\n",
        "plt.figure(figsize=(10,7))\n",
        "sns.heatmap(cm, annot=True)\n",
        "plt.xlabel('Predicted')\n",
        "plt.ylabel('Truth')\n",
        " \n"
      ],
      "metadata": {
        "colab": {
          "base_uri": "https://localhost:8080/",
          "height": 581
        },
        "id": "HNdkRMCkwqnY",
        "outputId": "517f8147-49ee-4e2f-9e41-725dbe4fc352"
      },
      "execution_count": null,
      "outputs": [
        {
          "output_type": "stream",
          "name": "stdout",
          "text": [
            "Confusion Matrix\n",
            "[[  14   29  615   97  164   39]\n",
            " [  16   28  645  124  171   40]\n",
            " [  21   50 1151  182  304   66]\n",
            " [   9   34  815  127  200   48]\n",
            " [  18   39  799  141  198   52]\n",
            " [  17   31  512   94  138   39]]\n"
          ]
        },
        {
          "output_type": "execute_result",
          "data": {
            "text/plain": [
              "Text(69.0, 0.5, 'Truth')"
            ]
          },
          "metadata": {},
          "execution_count": 73
        },
        {
          "output_type": "display_data",
          "data": {
            "text/plain": [
              "<Figure size 720x504 with 2 Axes>"
            ],
            "image/png": "[encoded data removed]"
          },
          "metadata": {
            "needs_background": "light"
          }
        }
      ]
    },
    {
      "cell_type": "code",
      "source": [
        "# Confusion Matrix\n",
        "# model_adam_swish\n",
        "\n",
        "from sklearn.metrics import confusion_matrix\n",
        "import seaborn as sns\n",
        "    \n",
        "y_pred = model_adam_swish.predict(validation_generator)\n",
        "y_pred = np.argmax(y_pred, axis=1)\n",
        "print('Confusion Matrix')\n",
        "print(confusion_matrix(validation_generator.classes, y_pred))\n",
        "cm = confusion_matrix(validation_generator.classes, y_pred)\n",
        "plt.figure(figsize=(10,7))\n",
        "sns.heatmap(cm, annot=True)\n",
        "plt.xlabel('Predicted')\n",
        "plt.ylabel('Truth')\n",
        " "
      ],
      "metadata": {
        "id": "d0kYWh35w3s7",
        "outputId": "e2b72d3c-c041-475f-f2f7-50bb9e3ad453",
        "colab": {
          "base_uri": "https://localhost:8080/",
          "height": 581
        }
      },
      "execution_count": null,
      "outputs": [
        {
          "output_type": "stream",
          "name": "stdout",
          "text": [
            "Confusion Matrix\n",
            "[[   0    0  554  395    8    1]\n",
            " [   0    0  587  428    8    1]\n",
            " [   1    0 1030  723   18    2]\n",
            " [   0    0  696  524   11    2]\n",
            " [   0    0  723  515    7    2]\n",
            " [   0    1  468  356    5    1]]\n"
          ]
        },
        {
          "output_type": "execute_result",
          "data": {
            "text/plain": [
              "Text(69.0, 0.5, 'Truth')"
            ]
          },
          "metadata": {},
          "execution_count": 74
        },
        {
          "output_type": "display_data",
          "data": {
            "text/plain": [
              "<Figure size 720x504 with 2 Axes>"
            ],
            "image/png": "[encoded data removed]"
          },
          "metadata": {
            "needs_background": "light"
          }
        }
      ]
    },
    {
      "cell_type": "code",
      "source": [
        "# Confusion Matrix\n",
        "# model_cnn\n",
        "\n",
        "from sklearn.metrics import confusion_matrix\n",
        "import seaborn as sns\n",
        "    \n",
        "y_pred = model_CNN.predict(validation_generator)\n",
        "y_pred = np.argmax(y_pred, axis=1)\n",
        "print('Confusion Matrix')\n",
        "print(confusion_matrix(validation_generator.classes, y_pred))\n",
        "cm = confusion_matrix(validation_generator.classes, y_pred)\n",
        "plt.figure(figsize=(10,7))\n",
        "sns.heatmap(cm, annot=True)\n",
        "plt.xlabel('Predicted')\n",
        "plt.ylabel('Truth')"
      ],
      "metadata": {
        "id": "-ySWHM9tw3Qr",
        "colab": {
          "base_uri": "https://localhost:8080/",
          "height": 633
        },
        "outputId": "5193ff46-20a4-40c3-e79a-610c03d8c663"
      },
      "execution_count": null,
      "outputs": [
        {
          "output_type": "stream",
          "name": "stdout",
          "text": [
            "Confusion Matrix\n",
            "[[ 859    3    0    0   10   25   38   23    0]\n",
            " [ 912    7    0    0    8   24   48   24    1]\n",
            " [1587    2    0    1   17   48   65   52    2]\n",
            " [1119    8    1    0   16   20   38   29    2]\n",
            " [1138    3    0    0   15   27   39   24    1]\n",
            " [ 753    5    0    0    8   23   18   24    0]\n",
            " [   0    0    0    0    0    0    0    0    0]\n",
            " [   0    0    0    0    0    0    0    0    0]\n",
            " [   0    0    0    0    0    0    0    0    0]]\n"
          ]
        },
        {
          "output_type": "execute_result",
          "data": {
            "text/plain": [
              "Text(69.0, 0.5, 'Truth')"
            ]
          },
          "metadata": {},
          "execution_count": 99
        },
        {
          "output_type": "display_data",
          "data": {
            "text/plain": [
              "<Figure size 720x504 with 2 Axes>"
            ],
            "image/png": "[encoded data removed]"
          },
          "metadata": {
            "needs_background": "light"
          }
        }
      ]
    }
  ]
}