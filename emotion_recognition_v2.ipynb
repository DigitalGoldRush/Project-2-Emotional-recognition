{
  "nbformat": 4,
  "nbformat_minor": 0,
  "metadata": {
    "colab": {
      "provenance": [],
      "mount_file_id": "1pMq1JmEUfygbms1EhJEDp8vHMh-GO41w",
      "authorship_tag": "ABX9TyM3SxQT73QAcS3fi4i4ph9q",
      "include_colab_link": true
    },
    "kernelspec": {
      "name": "python3",
      "display_name": "Python 3"
    },
    "language_info": {
      "name": "python"
    },
    "accelerator": "GPU",
    "gpuClass": "premium"
  },
  "cells": [
    {
      "cell_type": "markdown",
      "metadata": {
        "id": "view-in-github",
        "colab_type": "text"
      },
      "source": [
        "<a href=\"https://colab.research.google.com/github/DigitalGoldRush/Project-2-Emotional-recognition/blob/main/emotion_recognition_v2.ipynb\" target=\"_parent\"><img src=\"https://colab.research.google.com/assets/colab-badge.svg\" alt=\"Open In Colab\"/></a>"
      ]
    },
    {
      "cell_type": "code",
      "source": [
        "import tensorflow as tf\n",
        "import numpy as np\n",
        "import pandas as pd\n",
        "import random\n",
        "from tensorflow import keras\n",
        "from keras import layers\n",
        "from keras import Model\n",
        "from keras.preprocessing.image import ImageDataGenerator\n",
        "from keras.applications.inception_v3 import InceptionV3\n",
        "RANDOM_SEED = 123\n"
      ],
      "metadata": {
        "id": "z0elcJHShGG-"
      },
      "execution_count": 4,
      "outputs": []
    },
    {
      "cell_type": "code",
      "source": [
        "#Faster way to upload zip files from gdrive to colab\n",
        "# ID of Kaggle emotional dataset\n",
        "! gdown --id 1wrwLq6DqNHLDxU18RYUPY0WcV4ZNG70P"
      ],
      "metadata": {
        "colab": {
          "base_uri": "https://localhost:8080/"
        },
        "id": "Wn0TtaIEEFCE",
        "outputId": "ee58e496-2e19-4f83-f5ee-bf4fb2dc1553"
      },
      "execution_count": 5,
      "outputs": [
        {
          "output_type": "stream",
          "name": "stdout",
          "text": [
            "/usr/local/lib/python3.7/dist-packages/gdown/cli.py:131: FutureWarning: Option `--id` was deprecated in version 4.3.1 and will be removed in 5.0. You don't need to pass it anymore to use a file ID.\n",
            "  category=FutureWarning,\n",
            "Downloading...\n",
            "From: https://drive.google.com/uc?id=1wrwLq6DqNHLDxU18RYUPY0WcV4ZNG70P\n",
            "To: /content/emotional dataset.zip\n",
            "100% 62.6M/62.6M [00:00<00:00, 176MB/s]\n"
          ]
        }
      ]
    },
    {
      "cell_type": "code",
      "source": [
        "# Required to save models in HDF5 format\n",
        "!pip install pyyaml h5py "
      ],
      "metadata": {
        "colab": {
          "base_uri": "https://localhost:8080/"
        },
        "id": "C_ro1m6rUgZp",
        "outputId": "40a88495-bdd7-408e-d0ad-b29a8b90f0e5"
      },
      "execution_count": 7,
      "outputs": [
        {
          "output_type": "stream",
          "name": "stdout",
          "text": [
            "Looking in indexes: https://pypi.org/simple, https://us-python.pkg.dev/colab-wheels/public/simple/\n",
            "Requirement already satisfied: pyyaml in /usr/local/lib/python3.7/dist-packages (6.0)\n",
            "Requirement already satisfied: h5py in /usr/local/lib/python3.7/dist-packages (3.1.0)\n",
            "Requirement already satisfied: numpy>=1.14.5 in /usr/local/lib/python3.7/dist-packages (from h5py) (1.21.6)\n",
            "Requirement already satisfied: cached-property in /usr/local/lib/python3.7/dist-packages (from h5py) (1.5.2)\n"
          ]
        }
      ]
    },
    {
      "cell_type": "code",
      "source": [
        "# zip file opener\n",
        "!pip install patool\n",
        "import patoolib"
      ],
      "metadata": {
        "colab": {
          "base_uri": "https://localhost:8080/"
        },
        "id": "ME1TqApuHMIl",
        "outputId": "34e22335-c9bb-46b6-ebe0-ab9e649e7110"
      },
      "execution_count": 8,
      "outputs": [
        {
          "output_type": "stream",
          "name": "stdout",
          "text": [
            "Looking in indexes: https://pypi.org/simple, https://us-python.pkg.dev/colab-wheels/public/simple/\n",
            "Collecting patool\n",
            "  Downloading patool-1.12-py2.py3-none-any.whl (77 kB)\n",
            "\u001b[K     |████████████████████████████████| 77 kB 4.7 MB/s \n",
            "\u001b[?25hInstalling collected packages: patool\n",
            "Successfully installed patool-1.12\n"
          ]
        }
      ]
    },
    {
      "cell_type": "code",
      "source": [
        "patoolib.extract_archive('/content/emotional dataset.zip')"
      ],
      "metadata": {
        "colab": {
          "base_uri": "https://localhost:8080/",
          "height": 87
        },
        "id": "I8AeYeVIHlB2",
        "outputId": "314f93ff-42a8-4cd7-9437-c40757693848"
      },
      "execution_count": 9,
      "outputs": [
        {
          "output_type": "stream",
          "name": "stdout",
          "text": [
            "patool: Extracting /content/emotional dataset.zip ...\n",
            "patool: running /usr/bin/7z x -o./Unpack_23jjmc7c -- \"/content/emotional dataset.zip\"\n",
            "patool: ... /content/emotional dataset.zip extracted to `emotional dataset' (multiple files in root).\n"
          ]
        },
        {
          "output_type": "execute_result",
          "data": {
            "text/plain": [
              "'emotional dataset'"
            ],
            "application/vnd.google.colaboratory.intrinsic+json": {
              "type": "string"
            }
          },
          "metadata": {},
          "execution_count": 9
        }
      ]
    },
    {
      "cell_type": "code",
      "source": [
        "import os\n",
        "for dirname, _, filenames in os.walk('/kaggle/input'):\n",
        "    for filename in filenames:\n",
        "        os.path.join(dirname, filename)"
      ],
      "metadata": {
        "id": "5MeUdG3u3DEP"
      },
      "execution_count": 10,
      "outputs": []
    },
    {
      "cell_type": "code",
      "source": [
        "# data preparation\n",
        "train_dir = '/content/emotional dataset/Training/Training'\n",
        "test_dir = '/content/emotional dataset/Testing/Testing'\n",
        "\n",
        "train_angry_dir = '/content/emotional dataset/Training/Training/Angry'\n",
        "train_fear_dir = '/content/emotional dataset/Training/Training/Fear'\n",
        "train_happy_dir = '/content/emotional dataset/Training/Training/Happy'\n",
        "train_neutral_dir = '/content/emotional dataset/Training/Training/Neutral'\n",
        "train_sad_dir = '/content/emotional dataset/Training/Training/Sad'\n",
        "train_surprise_dir = '/content/emotional dataset/Training/Training/Suprise'\n",
        "\n",
        "test_angry_dir = '/content/emotional dataset/Testing/Testing/Angry'\n",
        "test_fear_dir = '/content/emotional dataset/Testing/Testing/Fear'\n",
        "test_happy_dir = '/content/emotional dataset/Testing/Testing/Happy'\n",
        "test_neural_dir = '/content/emotional dataset/Testing/Testing/Neutral'\n",
        "test_sad_dir = '/content/emotional dataset/Testing/Testing/Sad'\n",
        "test_surprise_dir = '/content/emotional dataset/Testing/Testing/Suprise'\n",
        "\n",
        "dir_list = [train_angry_dir, train_fear_dir, train_happy_dir,\n",
        "           train_neutral_dir, train_sad_dir, train_surprise_dir,\n",
        "           test_angry_dir, test_fear_dir, test_happy_dir,\n",
        "           test_neural_dir, test_sad_dir, test_surprise_dir]\n",
        "\n",
        "for d in dir_list:\n",
        "    print(d, len(os.listdir(d)))\n"
      ],
      "metadata": {
        "colab": {
          "base_uri": "https://localhost:8080/"
        },
        "id": "Xkt4CtTI-sWD",
        "outputId": "de2a9b57-cce1-4fb6-fb9f-428fe9951c0c"
      },
      "execution_count": 11,
      "outputs": [
        {
          "output_type": "stream",
          "name": "stdout",
          "text": [
            "/content/emotional dataset/Training/Training/Angry 3995\n",
            "/content/emotional dataset/Training/Training/Fear 4097\n",
            "/content/emotional dataset/Training/Training/Happy 7215\n",
            "/content/emotional dataset/Training/Training/Neutral 4965\n",
            "/content/emotional dataset/Training/Training/Sad 4830\n",
            "/content/emotional dataset/Training/Training/Suprise 3171\n",
            "/content/emotional dataset/Testing/Testing/Angry 958\n",
            "/content/emotional dataset/Testing/Testing/Fear 1024\n",
            "/content/emotional dataset/Testing/Testing/Happy 1774\n",
            "/content/emotional dataset/Testing/Testing/Neutral 1233\n",
            "/content/emotional dataset/Testing/Testing/Sad 1247\n",
            "/content/emotional dataset/Testing/Testing/Suprise 831\n"
          ]
        }
      ]
    },
    {
      "cell_type": "code",
      "source": [
        "# image generator\n",
        "\n",
        "train_datagen = ImageDataGenerator(rescale=1.0/255.0,\n",
        "                                  rotation_range=40,\n",
        "                                  width_shift_range=0.2,\n",
        "                                  height_shift_range=0.2,\n",
        "                                  zoom_range=0.2,\n",
        "                                  horizontal_flip=True,\n",
        "                                  fill_mode='nearest')\n",
        "\n",
        "train_generator = train_datagen.flow_from_directory(train_dir,\n",
        "                                                   target_size=(150,150),\n",
        "                                                   batch_size=64,\n",
        "                                                   class_mode='categorical')\n",
        "\n",
        "validation_datagen = ImageDataGenerator(rescale=1.0/255.0)\n",
        "\n",
        "validation_generator = validation_datagen.flow_from_directory(test_dir,\n",
        "                                                             target_size=(150,150),\n",
        "                                                             batch_size=62,\n",
        "                                                             class_mode='categorical')"
      ],
      "metadata": {
        "colab": {
          "base_uri": "https://localhost:8080/"
        },
        "id": "M2UDHgvbALM0",
        "outputId": "e76024ce-6585-4167-83f3-93242f582f46"
      },
      "execution_count": 12,
      "outputs": [
        {
          "output_type": "stream",
          "name": "stdout",
          "text": [
            "Found 28273 images belonging to 6 classes.\n",
            "Found 7067 images belonging to 6 classes.\n"
          ]
        }
      ]
    },
    {
      "cell_type": "code",
      "source": [
        "# callback function\n",
        "\n",
        "early_stopping_cb = keras.callbacks.EarlyStopping(patience=5,\n",
        "                                                 restore_best_weights=True)"
      ],
      "metadata": {
        "id": "K9SrLVKDm24M"
      },
      "execution_count": 13,
      "outputs": []
    },
    {
      "cell_type": "code",
      "source": [
        "# build the model\n",
        "\n",
        "model = tf.keras.models.Sequential([\n",
        "    # Note the input shape is the desired size of the image 150x150 with 3 bytes color\n",
        "    tf.keras.layers.Conv2D(16, (3,3), activation='relu', input_shape=(150, 150, 3)),\n",
        "    tf.keras.layers.MaxPooling2D(2,2),\n",
        "    tf.keras.layers.Conv2D(32, (3,3), activation='relu'),\n",
        "    tf.keras.layers.MaxPooling2D(2,2), \n",
        "    tf.keras.layers.Conv2D(64, (3,3), activation='relu'), \n",
        "    tf.keras.layers.MaxPooling2D(2,2),\n",
        "    tf.keras.layers.Conv2D(64, (3,3), activation='relu'), \n",
        "    tf.keras.layers.MaxPooling2D(2,2),\n",
        "    # Flatten the results to feed into a DNN\n",
        "    tf.keras.layers.Flatten(), \n",
        "    # 512 neuron hidden layer\n",
        "    tf.keras.layers.Dense(512, activation='relu'), \n",
        "    tf.keras.layers.Dense(6, activation='softmax')  \n",
        "])\n",
        "\n",
        "from tensorflow.keras.optimizers import RMSprop\n",
        "\n",
        "model.compile(optimizer=RMSprop(learning_rate=0.001),\n",
        "              loss='categorical_crossentropy',\n",
        "              metrics = ['accuracy'])\n",
        "model.summary()\n",
        "# keras.utils.plot_model(model)"
      ],
      "metadata": {
        "colab": {
          "base_uri": "https://localhost:8080/"
        },
        "id": "q1XDMWPpAec7",
        "outputId": "f5fb28ed-3529-4975-ccf7-05fd467a2577"
      },
      "execution_count": 14,
      "outputs": [
        {
          "output_type": "stream",
          "name": "stdout",
          "text": [
            "Model: \"sequential\"\n",
            "_________________________________________________________________\n",
            " Layer (type)                Output Shape              Param #   \n",
            "=================================================================\n",
            " conv2d (Conv2D)             (None, 148, 148, 16)      448       \n",
            "                                                                 \n",
            " max_pooling2d (MaxPooling2D  (None, 74, 74, 16)       0         \n",
            " )                                                               \n",
            "                                                                 \n",
            " conv2d_1 (Conv2D)           (None, 72, 72, 32)        4640      \n",
            "                                                                 \n",
            " max_pooling2d_1 (MaxPooling  (None, 36, 36, 32)       0         \n",
            " 2D)                                                             \n",
            "                                                                 \n",
            " conv2d_2 (Conv2D)           (None, 34, 34, 64)        18496     \n",
            "                                                                 \n",
            " max_pooling2d_2 (MaxPooling  (None, 17, 17, 64)       0         \n",
            " 2D)                                                             \n",
            "                                                                 \n",
            " conv2d_3 (Conv2D)           (None, 15, 15, 64)        36928     \n",
            "                                                                 \n",
            " max_pooling2d_3 (MaxPooling  (None, 7, 7, 64)         0         \n",
            " 2D)                                                             \n",
            "                                                                 \n",
            " flatten (Flatten)           (None, 3136)              0         \n",
            "                                                                 \n",
            " dense (Dense)               (None, 512)               1606144   \n",
            "                                                                 \n",
            " dense_1 (Dense)             (None, 6)                 3078      \n",
            "                                                                 \n",
            "=================================================================\n",
            "Total params: 1,669,734\n",
            "Trainable params: 1,669,734\n",
            "Non-trainable params: 0\n",
            "_________________________________________________________________\n"
          ]
        }
      ]
    },
    {
      "cell_type": "code",
      "source": [
        "# to check if colab is connected to a GPU for faster speed\n",
        "# change Notebook settings above to Runtime > Change runtime type\n",
        "# need Colab Pro\n",
        "\n",
        "gpu_info = !nvidia-smi\n",
        "gpu_info = '\\n'.join(gpu_info)\n",
        "if gpu_info.find('failed') >= 0:\n",
        "  print('Not connected to a GPU')\n",
        "else:\n", 
        "  print(gpu_info)\n"
      ],
      "metadata": {
        "colab": {
          "base_uri": "https://localhost:8080/"
        },
        "id": "ZgeuVfG1Ki_t",
        "outputId": "7611c725-a70e-41fc-d032-b100d6c9889a"
      },
      "execution_count": 18,
      "outputs": [
        {
          "output_type": "stream",
          "name": "stdout",
          "text": [
            "Sat Oct  1 20:57:43 2022       \n",
            "+-----------------------------------------------------------------------------+\n",
            "| NVIDIA-SMI 460.32.03    Driver Version: 460.32.03    CUDA Version: 11.2     |\n",
            "|-------------------------------+----------------------+----------------------+\n",
            "| GPU  Name        Persistence-M| Bus-Id        Disp.A | Volatile Uncorr. ECC |\n",
            "| Fan  Temp  Perf  Pwr:Usage/Cap|         Memory-Usage | GPU-Util  Compute M. |\n",
            "|                               |                      |               MIG M. |\n",
            "|===============================+======================+======================|\n",
            "|   0  Tesla V100-SXM2...  Off  | 00000000:00:04.0 Off |                    0 |\n",
            "| N/A   37C    P0    38W / 300W |    523MiB / 16160MiB |      0%      Default |\n",
            "|                               |                      |                  N/A |\n",
            "+-------------------------------+----------------------+----------------------+\n",
            "                                                                               \n",
            "+-----------------------------------------------------------------------------+\n",
            "| Processes:                                                                  |\n",
            "|  GPU   GI   CI        PID   Type   Process name                  GPU Memory |\n",
            "|        ID   ID                                                   Usage      |\n",
            "|=============================================================================|\n",
            "+-----------------------------------------------------------------------------+\n"
          ]
        }
      ]
    },
    {
      "cell_type": "code",
      "source": [
        "# train the model\n",
        "\n",
        "history = model.fit(train_generator,\n",
        "                   epochs=10,\n",
        "                   verbose=1,\n",
        "                   validation_data=validation_generator,\n",
        "                   callbacks=early_stopping_cb)\n"
      ],
      "metadata": {
        "id": "-b0QUqnxnZDC",
        "colab": {
          "base_uri": "https://localhost:8080/"
        },
        "outputId": "e7063e05-22e2-4027-9824-bcf22c1d5847"
      },
      "execution_count": 19,
      "outputs": [
        {
          "output_type": "stream",
          "name": "stdout",
          "text": [
            "Epoch 1/10\n",
            "442/442 [==============================] - 164s 344ms/step - loss: 1.7450 - accuracy: 0.2588 - val_loss: 1.6778 - val_accuracy: 0.2998\n",
            "Epoch 2/10\n",
            "442/442 [==============================] - 159s 360ms/step - loss: 1.6825 - accuracy: 0.2959 - val_loss: 1.6857 - val_accuracy: 0.3073\n",
            "Epoch 3/10\n",
            "442/442 [==============================] - 160s 361ms/step - loss: 1.6102 - accuracy: 0.3392 - val_loss: 1.4618 - val_accuracy: 0.4187\n",
            "Epoch 4/10\n",
            "442/442 [==============================] - 153s 346ms/step - loss: 1.5518 - accuracy: 0.3687 - val_loss: 1.3914 - val_accuracy: 0.4487\n",
            "Epoch 5/10\n",
            "442/442 [==============================] - 151s 342ms/step - loss: 1.5020 - accuracy: 0.3904 - val_loss: 1.3870 - val_accuracy: 0.4504\n",
            "Epoch 6/10\n",
            "442/442 [==============================] - 153s 346ms/step - loss: 1.4707 - accuracy: 0.4108 - val_loss: 1.3130 - val_accuracy: 0.4863\n",
            "Epoch 7/10\n",
            "442/442 [==============================] - 153s 347ms/step - loss: 1.4341 - accuracy: 0.4273 - val_loss: 1.2676 - val_accuracy: 0.5004\n",
            "Epoch 8/10\n",
            "442/442 [==============================] - 152s 344ms/step - loss: 1.4059 - accuracy: 0.4406 - val_loss: 1.2751 - val_accuracy: 0.4951\n",
            "Epoch 9/10\n",
            "442/442 [==============================] - 153s 346ms/step - loss: 1.3808 - accuracy: 0.4509 - val_loss: 1.2234 - val_accuracy: 0.5229\n",
            "Epoch 10/10\n",
            "442/442 [==============================] - 153s 345ms/step - loss: 1.3546 - accuracy: 0.4661 - val_loss: 1.3273 - val_accuracy: 0.5033\n"
          ]
        }
      ]
    },
    {
      "cell_type": "code",
      "source": [
        "# save the model to g-drive because files are discarded on colab after a period of time\n",
        "\n",
        "# model.save('facial_reco_base_model.h5')\n",
        "\n",
        "model.save(\"/content/drive/MyDrive/Colab Notebooks/Project 2_ Emotion Recognition/facial_reco_base_model.h5\")\n",
        "\n"
      ],
      "metadata": {
        "id": "fEIoSI6yBJuS"
      },
      "execution_count": 30,
      "outputs": []
    },
    {
      "cell_type": "code",
      "source": [
        "# plot accuracy and loss\n",
        "\n",
        "import matplotlib.pyplot as plt\n",
        "\n",
        "acc = history.history['accuracy']\n",
        "val_acc = history.history['val_accuracy']\n",
        "loss = history.history['loss']\n",
        "val_loss = history.history['val_loss']\n",
        "\n",
        "epochs = range(1, len(acc) + 1)\n",
        "\n",
        "# accuracy\n",
        "\n",
        "plt.plot(epochs, acc, 'b', label='Training accuracy')\n",
        "plt.plot(epochs, val_acc, 'b--', label='Validation accuracy')\n",
        "plt.title('Training and validation accuracy')\n",
        "plt.legend()\n",
        "plt.show()\n",
        "\n",
        "# loss\n",
        "\n",
        "plt.plot(epochs, loss, 'r', label='Training loss')\n",
        "plt.plot(epochs, val_loss, 'r--', label='Validation loss')\n",
        "plt.title('Training and validation loss')\n",
        "plt.legend()\n",
        "plt.show()"
      ],
      "metadata": {
        "colab": {
          "base_uri": "https://localhost:8080/",
          "height": 545
        },
        "id": "0pqqm_-mBQyv",
        "outputId": "dc2a11b0-13e1-4570-f157-b798db94d4e0"
      },
      "execution_count": 31,
      "outputs": [
        {
          "output_type": "display_data",
          "data": {
            "text/plain": [
              "<Figure size 432x288 with 1 Axes>"
            ],
            "image/png": "[encoded data removed]"
          },
          "metadata": {
            "needs_background": "light"
          }
        },
        {
          "output_type": "display_data",
          "data": {
            "text/plain": [
              "<Figure size 432x288 with 1 Axes>"
            ],
            "image/png": "[encoded data removed]"
          },
          "metadata": {
            "needs_background": "light"
          }
        }
      ]
    }
  ]
}
